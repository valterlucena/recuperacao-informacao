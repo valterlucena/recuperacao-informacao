{
  "nbformat": 4,
  "nbformat_minor": 0,
  "metadata": {
    "colab": {
      "name": "token-stemming.ipynb",
      "version": "0.3.2",
      "provenance": [],
      "include_colab_link": true
    },
    "kernelspec": {
      "name": "python3",
      "display_name": "Python 3"
    }
  },
  "cells": [
    {
      "cell_type": "markdown",
      "metadata": {
        "id": "view-in-github",
        "colab_type": "text"
      },
      "source": [
        "<a href=\"https://colab.research.google.com/github/valterlucena/recuperacao-informacao/blob/master/stemming/token_stemming.ipynb\" target=\"_parent\"><img src=\"https://colab.research.google.com/assets/colab-badge.svg\" alt=\"Open In Colab\"/></a>"
      ]
    },
    {
      "metadata": {
        "id": "SZfYC1ytaxLg",
        "colab_type": "code",
        "colab": {
          "base_uri": "https://localhost:8080/",
          "height": 161
        },
        "outputId": "8719e67b-95a9-41d9-e3d9-a6744163f1c1"
      },
      "cell_type": "code",
      "source": [
        "import pandas as pd\n",
        "import numpy as np\n",
        "import re\n",
        "import nltk\n",
        "from nltk.tokenize import RegexpTokenizer\n",
        "from nltk.corpus import stopwords\n",
        "nltk.download('punkt')\n",
        "nltk.download('stopwords')\n",
        "nltk.download('averaged_perceptron_tagger')\n",
        "\n",
        "import matplotlib.pyplot as plt\n",
        "import seaborn as sns"
      ],
      "execution_count": 30,
      "outputs": [
        {
          "output_type": "stream",
          "text": [
            "[nltk_data] Downloading package punkt to /root/nltk_data...\n",
            "[nltk_data]   Package punkt is already up-to-date!\n",
            "[nltk_data] Downloading package stopwords to /root/nltk_data...\n",
            "[nltk_data]   Package stopwords is already up-to-date!\n",
            "[nltk_data] Downloading package averaged_perceptron_tagger to\n",
            "[nltk_data]     /root/nltk_data...\n",
            "[nltk_data]   Package averaged_perceptron_tagger is already up-to-\n",
            "[nltk_data]       date!\n"
          ],
          "name": "stdout"
        }
      ]
    },
    {
      "metadata": {
        "id": "sszKj06WeZv1",
        "colab_type": "code",
        "colab": {}
      },
      "cell_type": "code",
      "source": [
        "DATA_URL = 'https://raw.githubusercontent.com/valterlucena/ri_lab_01/master/output/results.csv'\n",
        "news = pd.read_csv(DATA_URL).replace(np.nan, '', regex=True)"
      ],
      "execution_count": 0,
      "outputs": []
    },
    {
      "metadata": {
        "id": "zfWX-oxdetAk",
        "colab_type": "code",
        "colab": {}
      },
      "cell_type": "code",
      "source": [
        "toker = RegexpTokenizer('''\\w+[-']*\\w*''')\n",
        "stop_words = stopwords.words('portuguese')\n",
        "\n",
        "def isValid(token):\n",
        "  return token not in stop_words and not bool(re.search(r'\\d', token))\n",
        "\n",
        "word_list = []\n",
        "for new in news.text:\n",
        "  tokens = [token for token in toker.tokenize(new) if isValid(token)]\n",
        "  word_list.extend(tokens)\n",
        "  \n",
        "word_list"
      ],
      "execution_count": 0,
      "outputs": []
    },
    {
      "metadata": {
        "id": "olSNjWt_hs9u",
        "colab_type": "code",
        "colab": {}
      },
      "cell_type": "code",
      "source": [
        "total_documents = news.text.count()\n",
        "total_word_occurences = len(word_list)\n",
        "vocabulary_size = len(set(word_list))\n",
        "\n",
        "words = pd.DataFrame(word_list, columns=['word'])\n",
        "word_counts = words.word.value_counts().reset_index()\n",
        "word_counts.columns = ['word', 'freq']\n",
        "word_counts['r'] = word_counts.freq.rank(ascending=False, method='first')\n",
        "\n",
        "occurs_mt_thousand = len(word_counts[word_counts.freq > 1000])\n",
        "occurs_once = len(word_counts[word_counts.freq == 1])"
      ],
      "execution_count": 0,
      "outputs": []
    },
    {
      "metadata": {
        "id": "KSwy_bIpoYXD",
        "colab_type": "code",
        "colab": {
          "base_uri": "https://localhost:8080/",
          "height": 204
        },
        "outputId": "7067d06b-13e8-443c-9ba8-a00b69cee6e8"
      },
      "cell_type": "code",
      "source": [
        "statistics = ['Total documents', \n",
        "              'Total word occurences',\n",
        "              'Vocabulary size',\n",
        "              'Words occuring > 1000 times',\n",
        "              'Words occuring once'\n",
        "             ]\n",
        "\n",
        "values = [total_documents,\n",
        "          total_word_occurences,\n",
        "          vocabulary_size,\n",
        "          occurs_mt_thousand,\n",
        "          occurs_once\n",
        "         ]\n",
        "\n",
        "result_table = pd.DataFrame(data={'statistics': statistics, 'values': values})\n",
        "result_table"
      ],
      "execution_count": 27,
      "outputs": [
        {
          "output_type": "execute_result",
          "data": {
            "text/html": [
              "<div>\n",
              "<style scoped>\n",
              "    .dataframe tbody tr th:only-of-type {\n",
              "        vertical-align: middle;\n",
              "    }\n",
              "\n",
              "    .dataframe tbody tr th {\n",
              "        vertical-align: top;\n",
              "    }\n",
              "\n",
              "    .dataframe thead th {\n",
              "        text-align: right;\n",
              "    }\n",
              "</style>\n",
              "<table border=\"1\" class=\"dataframe\">\n",
              "  <thead>\n",
              "    <tr style=\"text-align: right;\">\n",
              "      <th></th>\n",
              "      <th>statistics</th>\n",
              "      <th>values</th>\n",
              "    </tr>\n",
              "  </thead>\n",
              "  <tbody>\n",
              "    <tr>\n",
              "      <th>0</th>\n",
              "      <td>Total documents</td>\n",
              "      <td>146</td>\n",
              "    </tr>\n",
              "    <tr>\n",
              "      <th>1</th>\n",
              "      <td>Total word occurences</td>\n",
              "      <td>36223</td>\n",
              "    </tr>\n",
              "    <tr>\n",
              "      <th>2</th>\n",
              "      <td>Vocabulary size</td>\n",
              "      <td>11055</td>\n",
              "    </tr>\n",
              "    <tr>\n",
              "      <th>3</th>\n",
              "      <td>Words occuring &gt; 1000 times</td>\n",
              "      <td>0</td>\n",
              "    </tr>\n",
              "    <tr>\n",
              "      <th>4</th>\n",
              "      <td>Words occuring once</td>\n",
              "      <td>6314</td>\n",
              "    </tr>\n",
              "  </tbody>\n",
              "</table>\n",
              "</div>"
            ],
            "text/plain": [
              "                    statistics  values\n",
              "0              Total documents     146\n",
              "1        Total word occurences   36223\n",
              "2              Vocabulary size   11055\n",
              "3  Words occuring > 1000 times       0\n",
              "4          Words occuring once    6314"
            ]
          },
          "metadata": {
            "tags": []
          },
          "execution_count": 27
        }
      ]
    }
  ]
}