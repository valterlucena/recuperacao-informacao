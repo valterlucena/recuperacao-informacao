{
  "nbformat": 4,
  "nbformat_minor": 0,
  "metadata": {
    "colab": {
      "name": "query-expansion.ipynb",
      "version": "0.3.2",
      "provenance": [],
      "collapsed_sections": [],
      "include_colab_link": true
    },
    "kernelspec": {
      "name": "python3",
      "display_name": "Python 3"
    }
  },
  "cells": [
    {
      "cell_type": "markdown",
      "metadata": {
        "id": "view-in-github",
        "colab_type": "text"
      },
      "source": [
        "<a href=\"https://colab.research.google.com/github/valterlucena/recuperacao-informacao/blob/master/query-expansion/query_expansion.ipynb\" target=\"_parent\"><img src=\"https://colab.research.google.com/assets/colab-badge.svg\" alt=\"Open In Colab\"/></a>"
      ]
    },
    {
      "cell_type": "code",
      "metadata": {
        "id": "kEn-mNXEh05m",
        "colab_type": "code",
        "outputId": "38065578-6568-43d6-9362-08e1a7f8043a",
        "colab": {
          "base_uri": "https://localhost:8080/",
          "height": 89
        }
      },
      "source": [
        "import pandas as pd\n",
        "import numpy as np\n",
        "import re\n",
        "import nltk\n",
        "from nltk.tokenize import RegexpTokenizer\n",
        "from nltk.corpus import stopwords\n",
        "nltk.download('punkt')\n",
        "nltk.download('stopwords')\n",
        "\n",
        "import collections\n",
        "import matplotlib.pyplot as plt\n",
        "%matplotlib inline\n",
        "\n",
        "import heapq as hp"
      ],
      "execution_count": 0,
      "outputs": [
        {
          "output_type": "stream",
          "text": [
            "[nltk_data] Downloading package punkt to /root/nltk_data...\n",
            "[nltk_data]   Package punkt is already up-to-date!\n",
            "[nltk_data] Downloading package stopwords to /root/nltk_data...\n",
            "[nltk_data]   Package stopwords is already up-to-date!\n"
          ],
          "name": "stdout"
        }
      ]
    },
    {
      "cell_type": "markdown",
      "metadata": {
        "id": "VNThtQGWjUIh",
        "colab_type": "text"
      },
      "source": [
        "# Introdução\n",
        "\n",
        "Nesta atividade exercitaremos conceitos sobre expansão de consultas.  Os dados utilizados são de textos de notícias resultados da utilização de técnicas de crawling e scrapping. Os scripts para a coleta desses dados podem ser encontrados [neste](https://github.com/valterlucena/ri_lab_01) repositório.\n",
        "\n",
        "Primeiramente, vamos importar os dados que serão utilizados.\n"
      ]
    },
    {
      "cell_type": "code",
      "metadata": {
        "id": "jhhhhtszi5hz",
        "colab_type": "code",
        "colab": {}
      },
      "source": [
        "DATA_URL = 'https://raw.githubusercontent.com/valterlucena/ri_lab_01/master/output/results.csv'\n",
        "news = pd.read_csv(DATA_URL).replace(np.nan, '', regex=True)"
      ],
      "execution_count": 0,
      "outputs": []
    },
    {
      "cell_type": "markdown",
      "metadata": {
        "id": "zpxC7cAxkhwC",
        "colab_type": "text"
      },
      "source": [
        "Agora iremos criar nosso índice invertido, para ser utilizado mais adiante. Utilizaremos a função tokenize da biblioteca NLTK associada à uma expressão regular, que considerará como token apenas as sequências de caracteres não-especiais (com exceção do hífen) ou numéricos que não formem stopwords e quem possuam mais que 2 caracteres."
      ]
    },
    {
      "cell_type": "code",
      "metadata": {
        "id": "ftfC0IBpi8d2",
        "colab_type": "code",
        "colab": {}
      },
      "source": [
        "toker = RegexpTokenizer('''\\w+[-']*\\w*''')\n",
        "stop_words = stopwords.words('portuguese')\n",
        "\n",
        "def isValid(token):\n",
        "  return token not in stop_words and not bool(re.search(r'\\d', token)) and len(token) > 2\n",
        "\n",
        "def build_index(documents):\n",
        "  index = {}\n",
        "  n = 0\n",
        "  for document in documents:\n",
        "    n += 1\n",
        "    tokens = [token for token in toker.tokenize(document.lower()) if isValid(token)]\n",
        "    for token in tokens:\n",
        "      occurrence = tokens.count(token)\n",
        "      if token not in index:\n",
        "        index[token] = {}\n",
        "      if n not in index[token]:\n",
        "        index[token][n] = occurrence\n",
        "  return index\n",
        "\n",
        "index = build_index(news.text)"
      ],
      "execution_count": 0,
      "outputs": []
    },
    {
      "cell_type": "markdown",
      "metadata": {
        "id": "EPUUMteShUoc",
        "colab_type": "text"
      },
      "source": [
        "# Medidas de associação.\n",
        "\n",
        "O objetivo das técnicas de expansão de consultas é melhorar a efetividade de seus resultados a partir do casamento de termos que são relacionados entre si.\n",
        "A chave para esta efetividade é escolher palavras que são apropriadas ao contexto da consulta. \n",
        "\n",
        "As medidas de associação são uma parte importante de muitas técnicas de expansão de consulta. Utilizaremos algumas dessas medidas para rankear os termos do índice em relação às consultas de um termo realizadas na [atividade anterior](https://github.com/valterlucena/recuperacao-informacao/blob/master/index-query/index_query.ipynb), com o objetivo de selecionar os melhores termos para expandir essas consultas.\n",
        "\n",
        "Para isso, iremos precisar de algumas funções auxiliares."
      ]
    },
    {
      "cell_type": "code",
      "metadata": {
        "id": "k6hA6E1Sr_RH",
        "colab_type": "code",
        "colab": {}
      },
      "source": [
        "'''\n",
        "  Calcula o total de documentos que contém um determinado termo\n",
        "''' \n",
        "def count_docs(termo, index):\n",
        "  return len(index[termo].keys())\n",
        "\n",
        "'''\n",
        "  Calcula o total de documentos que contém os termos a e b\n",
        "'''\n",
        "def count_docs_conj(a, b, index):\n",
        "  docs_a = index[a].keys()\n",
        "  docs_b = index[b].keys()\n",
        "  count = 0\n",
        "  for doc in docs_a:\n",
        "    if doc in docs_b:\n",
        "      count += 1\n",
        "  return count  \n",
        "\n",
        "'''\n",
        "  Retorna o total de documentos na base de dados.\n",
        "'''\n",
        "def total_docs(index):\n",
        "  docs = []\n",
        "  for _,inv_lists in index.items():\n",
        "    for doc,_ in inv_lists.items():\n",
        "      if doc not in docs:\n",
        "        docs.append(doc)\n",
        "  return len(docs)"
      ],
      "execution_count": 0,
      "outputs": []
    },
    {
      "cell_type": "markdown",
      "metadata": {
        "id": "Rh2eIjd44cKt",
        "colab_type": "text"
      },
      "source": [
        "Essas funções auxiliarão no cálculo das medidas de associação que utilizaremos, que são:\n",
        "\n",
        "* Mutual Information Measure (MIM)\n",
        "* Expected Mutual Information Measure (EMIM)\n",
        "* Pearson's Chi-squared (X²)\n",
        "* Dice's coefficient (Dice)\n",
        "\n",
        "Abaixo, criaremos funções que calculam essas medidas."
      ]
    },
    {
      "cell_type": "code",
      "metadata": {
        "id": "MjdIzRH7tGQX",
        "colab_type": "code",
        "colab": {}
      },
      "source": [
        "'''\n",
        "  Medidas de associação de termos\n",
        "'''\n",
        "\n",
        "'''\n",
        "  Mutal Information Measure\n",
        "'''\n",
        "def mutual_information(a, b, index):\n",
        "  n_a = count_docs(a, index)\n",
        "  n_b = count_docs(b, index)\n",
        "  n_ab = count_docs_conj(a, b, index)\n",
        "  mim = n_ab / (n_a * n_b)\n",
        "  return mim\n",
        "\n",
        "'''\n",
        "  Expected Mutual Information Measure\n",
        "'''\n",
        "def expected_mutual_information(a, b, index, n):\n",
        "  n_a = count_docs(a, index)\n",
        "  n_b = count_docs(b, index)\n",
        "  n_ab = count_docs_conj(a, b, index)\n",
        "  exp = n * (n_ab / (n_a * n_b))\n",
        "  emim = n_ab * np.log(exp) if exp != 0 else 0\n",
        "  return emim\n",
        "\n",
        "'''\n",
        "  Pearson's Chi-squared\n",
        "'''\n",
        "def chi_square(a, b, index, n):\n",
        "  n_a = count_docs(a, index)\n",
        "  n_b = count_docs(b, index)\n",
        "  n_ab = count_docs_conj(a, b, index)\n",
        "  chi = (n_ab - (1 / n) * n_a * n_b) ** 2 / (n_a * n_b)\n",
        "  return chi\n",
        "\n",
        "'''\n",
        "  Dice's coefficient\n",
        "'''\n",
        "def dice_coefficient(a, b, index):\n",
        "  n_a = count_docs(a, index)\n",
        "  n_b = count_docs(b, index)\n",
        "  n_ab = count_docs_conj(a, b, index)\n",
        "  dice = n_ab / (n_a + n_b)\n",
        "  return dice"
      ],
      "execution_count": 0,
      "outputs": []
    },
    {
      "cell_type": "markdown",
      "metadata": {
        "id": "UKdbszjQ8KS1",
        "colab_type": "text"
      },
      "source": [
        "Agora, vamos criar tabelas que mostram os 10 termos mais relevantes do índice de acordo com cada um dos termos da consulta."
      ]
    },
    {
      "cell_type": "code",
      "metadata": {
        "id": "fxp5Ysq5CRA_",
        "colab_type": "code",
        "colab": {}
      },
      "source": [
        "'''\n",
        "  Cria uma lista de tuplas contendo o valor de uma determinada métrica para um \n",
        "  posting\n",
        "'''\n",
        "def build_metric_list(termo, index, metric):\n",
        "  pairs = []\n",
        "  n = total_docs(index)\n",
        "  for posting in index.keys():\n",
        "    if posting != termo:\n",
        "      if metric == 'mim':\n",
        "        metric_value = mutual_information(termo, posting, index)\n",
        "      elif metric == 'emim':\n",
        "        metric_value = expected_mutual_information(termo, posting, index, n)\n",
        "      elif metric == 'chi-square':\n",
        "        metric_value = chi_square(termo, posting, index, n)\n",
        "      elif metric == 'dice':\n",
        "        metric_value = dice_coefficient(termo, posting, index)\n",
        "      pairs.append((posting, metric_value))      \n",
        "  pairs = sorted(pairs, key = lambda x: x[1], reverse=True)\n",
        "  return pairs\n",
        "  \n",
        "def build_term_metrics(termo, index):\n",
        "  metricas = {}\n",
        "  metricas['mim'] = build_metric_list(termo, index, 'mim')\n",
        "  metricas['emim'] = build_metric_list(termo, index, 'emim')\n",
        "  metricas['chi-square'] = build_metric_list(termo, index, 'chi-square')\n",
        "  metricas['dice'] = build_metric_list(termo, index, 'dice')\n",
        "  return metricas\n",
        "\n",
        "'''\n",
        "  Constrói um dataframe com o top 10 de palavras mais associadas à um termo de\n",
        "  acordo com cada uma das métricas\n",
        "'''\n",
        "def build_table(termo, index):\n",
        "  metricas = build_term_metrics(termo, index)\n",
        "  mim = [k for k,_ in metricas['mim'][0:10]]\n",
        "  emim = [k for k,_ in metricas['emim'][0:10]]\n",
        "  chi_square = [k for k,_ in metricas['chi-square'][0:10]]\n",
        "  dice = [k for k,_ in metricas['dice'][0:10]]\n",
        "  data = {'MIM': mim, 'EMIM': emim, 'X²': chi_square, 'Dice': dice}\n",
        "  return data"
      ],
      "execution_count": 0,
      "outputs": []
    },
    {
      "cell_type": "markdown",
      "metadata": {
        "id": "xaK8ouJP1KSP",
        "colab_type": "text"
      },
      "source": [
        "Os termos a serem consultados são:"
      ]
    },
    {
      "cell_type": "code",
      "metadata": {
        "id": "VJ72f4rmnIPg",
        "colab_type": "code",
        "colab": {}
      },
      "source": [
        "termos = ['presidente', 'lula', 'bolsonaro', 'governo', 'federal']"
      ],
      "execution_count": 0,
      "outputs": []
    },
    {
      "cell_type": "markdown",
      "metadata": {
        "id": "XJNRchbp1Mgx",
        "colab_type": "text"
      },
      "source": [
        "Tabela para a palavra **presidente**:"
      ]
    },
    {
      "cell_type": "code",
      "metadata": {
        "id": "J9ec9o1vYRXm",
        "colab_type": "code",
        "outputId": "95b4b4fa-e1b8-4774-9585-302afbc31632",
        "colab": {
          "base_uri": "https://localhost:8080/",
          "height": 359
        }
      },
      "source": [
        "pd.DataFrame(build_table(termos[0], index))"
      ],
      "execution_count": 0,
      "outputs": [
        {
          "output_type": "execute_result",
          "data": {
            "text/html": [
              "<div>\n",
              "<style scoped>\n",
              "    .dataframe tbody tr th:only-of-type {\n",
              "        vertical-align: middle;\n",
              "    }\n",
              "\n",
              "    .dataframe tbody tr th {\n",
              "        vertical-align: top;\n",
              "    }\n",
              "\n",
              "    .dataframe thead th {\n",
              "        text-align: right;\n",
              "    }\n",
              "</style>\n",
              "<table border=\"1\" class=\"dataframe\">\n",
              "  <thead>\n",
              "    <tr style=\"text-align: right;\">\n",
              "      <th></th>\n",
              "      <th>MIM</th>\n",
              "      <th>EMIM</th>\n",
              "      <th>X²</th>\n",
              "      <th>Dice</th>\n",
              "    </tr>\n",
              "  </thead>\n",
              "  <tbody>\n",
              "    <tr>\n",
              "      <th>0</th>\n",
              "      <td>requereu</td>\n",
              "      <td>bolsonaro</td>\n",
              "      <td>jair</td>\n",
              "      <td>bolsonaro</td>\n",
              "    </tr>\n",
              "    <tr>\n",
              "      <th>1</th>\n",
              "      <td>penal</td>\n",
              "      <td>jair</td>\n",
              "      <td>candidato</td>\n",
              "      <td>brasil</td>\n",
              "    </tr>\n",
              "    <tr>\n",
              "      <th>2</th>\n",
              "      <td>especial</td>\n",
              "      <td>brasil</td>\n",
              "      <td>processo</td>\n",
              "      <td>jair</td>\n",
              "    </tr>\n",
              "    <tr>\n",
              "      <th>3</th>\n",
              "      <td>embu</td>\n",
              "      <td>direitos</td>\n",
              "      <td>bolsonaro</td>\n",
              "      <td>ser</td>\n",
              "    </tr>\n",
              "    <tr>\n",
              "      <th>4</th>\n",
              "      <td>artes</td>\n",
              "      <td>ser</td>\n",
              "      <td>gente</td>\n",
              "      <td>governo</td>\n",
              "    </tr>\n",
              "    <tr>\n",
              "      <th>5</th>\n",
              "      <td>nando</td>\n",
              "      <td>governo</td>\n",
              "      <td>direitos</td>\n",
              "      <td>país</td>\n",
              "    </tr>\n",
              "    <tr>\n",
              "      <th>6</th>\n",
              "      <td>moura</td>\n",
              "      <td>apenas</td>\n",
              "      <td>corrupção</td>\n",
              "      <td>direitos</td>\n",
              "    </tr>\n",
              "    <tr>\n",
              "      <th>7</th>\n",
              "      <td>injúria</td>\n",
              "      <td>processo</td>\n",
              "      <td>quer</td>\n",
              "      <td>contra</td>\n",
              "    </tr>\n",
              "    <tr>\n",
              "      <th>8</th>\n",
              "      <td>difamação</td>\n",
              "      <td>contra</td>\n",
              "      <td>apenas</td>\n",
              "      <td>dia</td>\n",
              "    </tr>\n",
              "    <tr>\n",
              "      <th>9</th>\n",
              "      <td>requerida</td>\n",
              "      <td>fazer</td>\n",
              "      <td>pois</td>\n",
              "      <td>hoje</td>\n",
              "    </tr>\n",
              "  </tbody>\n",
              "</table>\n",
              "</div>"
            ],
            "text/plain": [
              "         MIM       EMIM         X²       Dice\n",
              "0   requereu  bolsonaro       jair  bolsonaro\n",
              "1      penal       jair  candidato     brasil\n",
              "2   especial     brasil   processo       jair\n",
              "3       embu   direitos  bolsonaro        ser\n",
              "4      artes        ser      gente    governo\n",
              "5      nando    governo   direitos       país\n",
              "6      moura     apenas  corrupção   direitos\n",
              "7    injúria   processo       quer     contra\n",
              "8  difamação     contra     apenas        dia\n",
              "9  requerida      fazer       pois       hoje"
            ]
          },
          "metadata": {
            "tags": []
          },
          "execution_count": 8
        }
      ]
    },
    {
      "cell_type": "markdown",
      "metadata": {
        "id": "uirkmxHR1eYb",
        "colab_type": "text"
      },
      "source": [
        "Tabela para a palavra **lula**:"
      ]
    },
    {
      "cell_type": "code",
      "metadata": {
        "id": "5B_Jv-igYelH",
        "colab_type": "code",
        "outputId": "c820dbf0-3508-433b-8607-5a2b7820b708",
        "colab": {
          "base_uri": "https://localhost:8080/",
          "height": 359
        }
      },
      "source": [
        "pd.DataFrame(build_table(termos[1], index))"
      ],
      "execution_count": 0,
      "outputs": [
        {
          "output_type": "execute_result",
          "data": {
            "text/html": [
              "<div>\n",
              "<style scoped>\n",
              "    .dataframe tbody tr th:only-of-type {\n",
              "        vertical-align: middle;\n",
              "    }\n",
              "\n",
              "    .dataframe tbody tr th {\n",
              "        vertical-align: top;\n",
              "    }\n",
              "\n",
              "    .dataframe thead th {\n",
              "        text-align: right;\n",
              "    }\n",
              "</style>\n",
              "<table border=\"1\" class=\"dataframe\">\n",
              "  <thead>\n",
              "    <tr style=\"text-align: right;\">\n",
              "      <th></th>\n",
              "      <th>MIM</th>\n",
              "      <th>EMIM</th>\n",
              "      <th>X²</th>\n",
              "      <th>Dice</th>\n",
              "    </tr>\n",
              "  </thead>\n",
              "  <tbody>\n",
              "    <tr>\n",
              "      <th>0</th>\n",
              "      <td>elio</td>\n",
              "      <td>ex-presidente</td>\n",
              "      <td>luiz</td>\n",
              "      <td>ex-presidente</td>\n",
              "    </tr>\n",
              "    <tr>\n",
              "      <th>1</th>\n",
              "      <td>gaspari</td>\n",
              "      <td>dizer</td>\n",
              "      <td>ex-presidente</td>\n",
              "      <td>dizer</td>\n",
              "    </tr>\n",
              "    <tr>\n",
              "      <th>2</th>\n",
              "      <td>resolve</td>\n",
              "      <td>democracia</td>\n",
              "      <td>dizer</td>\n",
              "      <td>democracia</td>\n",
              "    </tr>\n",
              "    <tr>\n",
              "      <th>3</th>\n",
              "      <td>pedirá</td>\n",
              "      <td>luiz</td>\n",
              "      <td>inocência</td>\n",
              "      <td>luiz</td>\n",
              "    </tr>\n",
              "    <tr>\n",
              "      <th>4</th>\n",
              "      <td>inocência</td>\n",
              "      <td>prisão</td>\n",
              "      <td>inácio</td>\n",
              "      <td>legislação</td>\n",
              "    </tr>\n",
              "    <tr>\n",
              "      <th>5</th>\n",
              "      <td>negocio</td>\n",
              "      <td>legislação</td>\n",
              "      <td>legislação</td>\n",
              "      <td>ato</td>\n",
              "    </tr>\n",
              "    <tr>\n",
              "      <th>6</th>\n",
              "      <td>trocaria</td>\n",
              "      <td>silva</td>\n",
              "      <td>curitiba</td>\n",
              "      <td>silva</td>\n",
              "    </tr>\n",
              "    <tr>\n",
              "      <th>7</th>\n",
              "      <td>relativo</td>\n",
              "      <td>dentro</td>\n",
              "      <td>visão</td>\n",
              "      <td>dentro</td>\n",
              "    </tr>\n",
              "    <tr>\n",
              "      <th>8</th>\n",
              "      <td>conforto</td>\n",
              "      <td>ato</td>\n",
              "      <td>condenou</td>\n",
              "      <td>prisão</td>\n",
              "    </tr>\n",
              "    <tr>\n",
              "      <th>9</th>\n",
              "      <td>assemelhariam</td>\n",
              "      <td>direitos</td>\n",
              "      <td>democracia</td>\n",
              "      <td>curitiba</td>\n",
              "    </tr>\n",
              "  </tbody>\n",
              "</table>\n",
              "</div>"
            ],
            "text/plain": [
              "             MIM           EMIM             X²           Dice\n",
              "0           elio  ex-presidente           luiz  ex-presidente\n",
              "1        gaspari          dizer  ex-presidente          dizer\n",
              "2        resolve     democracia          dizer     democracia\n",
              "3         pedirá           luiz      inocência           luiz\n",
              "4      inocência         prisão         inácio     legislação\n",
              "5        negocio     legislação     legislação            ato\n",
              "6       trocaria          silva       curitiba          silva\n",
              "7       relativo         dentro          visão         dentro\n",
              "8       conforto            ato       condenou         prisão\n",
              "9  assemelhariam       direitos     democracia       curitiba"
            ]
          },
          "metadata": {
            "tags": []
          },
          "execution_count": 9
        }
      ]
    },
    {
      "cell_type": "markdown",
      "metadata": {
        "id": "jYL57a0W1hZ9",
        "colab_type": "text"
      },
      "source": [
        "Tabela para a palavra **bolsonaro**:"
      ]
    },
    {
      "cell_type": "code",
      "metadata": {
        "id": "vzr1IPNnYgUc",
        "colab_type": "code",
        "outputId": "856bbbf5-60d2-4965-ae26-1bf57a50b8d6",
        "colab": {
          "base_uri": "https://localhost:8080/",
          "height": 359
        }
      },
      "source": [
        "pd.DataFrame(build_table(termos[2], index))"
      ],
      "execution_count": 0,
      "outputs": [
        {
          "output_type": "execute_result",
          "data": {
            "text/html": [
              "<div>\n",
              "<style scoped>\n",
              "    .dataframe tbody tr th:only-of-type {\n",
              "        vertical-align: middle;\n",
              "    }\n",
              "\n",
              "    .dataframe tbody tr th {\n",
              "        vertical-align: top;\n",
              "    }\n",
              "\n",
              "    .dataframe thead th {\n",
              "        text-align: right;\n",
              "    }\n",
              "</style>\n",
              "<table border=\"1\" class=\"dataframe\">\n",
              "  <thead>\n",
              "    <tr style=\"text-align: right;\">\n",
              "      <th></th>\n",
              "      <th>MIM</th>\n",
              "      <th>EMIM</th>\n",
              "      <th>X²</th>\n",
              "      <th>Dice</th>\n",
              "    </tr>\n",
              "  </thead>\n",
              "  <tbody>\n",
              "    <tr>\n",
              "      <th>0</th>\n",
              "      <td>requereu</td>\n",
              "      <td>jair</td>\n",
              "      <td>jair</td>\n",
              "      <td>jair</td>\n",
              "    </tr>\n",
              "    <tr>\n",
              "      <th>1</th>\n",
              "      <td>especial</td>\n",
              "      <td>presidente</td>\n",
              "      <td>onde</td>\n",
              "      <td>presidente</td>\n",
              "    </tr>\n",
              "    <tr>\n",
              "      <th>2</th>\n",
              "      <td>embu</td>\n",
              "      <td>onde</td>\n",
              "      <td>presidente</td>\n",
              "      <td>ser</td>\n",
              "    </tr>\n",
              "    <tr>\n",
              "      <th>3</th>\n",
              "      <td>artes</td>\n",
              "      <td>governo</td>\n",
              "      <td>deputados</td>\n",
              "      <td>governo</td>\n",
              "    </tr>\n",
              "    <tr>\n",
              "      <th>4</th>\n",
              "      <td>nando</td>\n",
              "      <td>ser</td>\n",
              "      <td>vai</td>\n",
              "      <td>brasil</td>\n",
              "    </tr>\n",
              "    <tr>\n",
              "      <th>5</th>\n",
              "      <td>moura</td>\n",
              "      <td>brasil</td>\n",
              "      <td>antes</td>\n",
              "      <td>país</td>\n",
              "    </tr>\n",
              "    <tr>\n",
              "      <th>6</th>\n",
              "      <td>injúria</td>\n",
              "      <td>país</td>\n",
              "      <td>político</td>\n",
              "      <td>onde</td>\n",
              "    </tr>\n",
              "    <tr>\n",
              "      <th>7</th>\n",
              "      <td>difamação</td>\n",
              "      <td>vai</td>\n",
              "      <td>final</td>\n",
              "      <td>sobre</td>\n",
              "    </tr>\n",
              "    <tr>\n",
              "      <th>8</th>\n",
              "      <td>requerida</td>\n",
              "      <td>antes</td>\n",
              "      <td>semana</td>\n",
              "      <td>vai</td>\n",
              "    </tr>\n",
              "    <tr>\n",
              "      <th>9</th>\n",
              "      <td>promotoria</td>\n",
              "      <td>política</td>\n",
              "      <td>governo</td>\n",
              "      <td>ter</td>\n",
              "    </tr>\n",
              "  </tbody>\n",
              "</table>\n",
              "</div>"
            ],
            "text/plain": [
              "          MIM        EMIM          X²        Dice\n",
              "0    requereu        jair        jair        jair\n",
              "1    especial  presidente        onde  presidente\n",
              "2        embu        onde  presidente         ser\n",
              "3       artes     governo   deputados     governo\n",
              "4       nando         ser         vai      brasil\n",
              "5       moura      brasil       antes        país\n",
              "6     injúria        país    político        onde\n",
              "7   difamação         vai       final       sobre\n",
              "8   requerida       antes      semana         vai\n",
              "9  promotoria    política     governo         ter"
            ]
          },
          "metadata": {
            "tags": []
          },
          "execution_count": 10
        }
      ]
    },
    {
      "cell_type": "markdown",
      "metadata": {
        "id": "l3Xu7bQK1pnm",
        "colab_type": "text"
      },
      "source": [
        "Tabela para a palavra **governo**:"
      ]
    },
    {
      "cell_type": "code",
      "metadata": {
        "id": "aRbBjq_iYhU7",
        "colab_type": "code",
        "outputId": "c0efeffe-364c-46a7-f083-381ee3a14f29",
        "colab": {
          "base_uri": "https://localhost:8080/",
          "height": 359
        }
      },
      "source": [
        "pd.DataFrame(build_table(termos[3], index))"
      ],
      "execution_count": 0,
      "outputs": [
        {
          "output_type": "execute_result",
          "data": {
            "text/html": [
              "<div>\n",
              "<style scoped>\n",
              "    .dataframe tbody tr th:only-of-type {\n",
              "        vertical-align: middle;\n",
              "    }\n",
              "\n",
              "    .dataframe tbody tr th {\n",
              "        vertical-align: top;\n",
              "    }\n",
              "\n",
              "    .dataframe thead th {\n",
              "        text-align: right;\n",
              "    }\n",
              "</style>\n",
              "<table border=\"1\" class=\"dataframe\">\n",
              "  <thead>\n",
              "    <tr style=\"text-align: right;\">\n",
              "      <th></th>\n",
              "      <th>MIM</th>\n",
              "      <th>EMIM</th>\n",
              "      <th>X²</th>\n",
              "      <th>Dice</th>\n",
              "    </tr>\n",
              "  </thead>\n",
              "  <tbody>\n",
              "    <tr>\n",
              "      <th>0</th>\n",
              "      <td>requereu</td>\n",
              "      <td>reforma</td>\n",
              "      <td>reforma</td>\n",
              "      <td>bolsonaro</td>\n",
              "    </tr>\n",
              "    <tr>\n",
              "      <th>1</th>\n",
              "      <td>penal</td>\n",
              "      <td>bolsonaro</td>\n",
              "      <td>previdência</td>\n",
              "      <td>ser</td>\n",
              "    </tr>\n",
              "    <tr>\n",
              "      <th>2</th>\n",
              "      <td>corre</td>\n",
              "      <td>brasil</td>\n",
              "      <td>outra</td>\n",
              "      <td>brasil</td>\n",
              "    </tr>\n",
              "    <tr>\n",
              "      <th>3</th>\n",
              "      <td>especial</td>\n",
              "      <td>ser</td>\n",
              "      <td>tudo</td>\n",
              "      <td>presidente</td>\n",
              "    </tr>\n",
              "    <tr>\n",
              "      <th>4</th>\n",
              "      <td>embu</td>\n",
              "      <td>política</td>\n",
              "      <td>falta</td>\n",
              "      <td>todos</td>\n",
              "    </tr>\n",
              "    <tr>\n",
              "      <th>5</th>\n",
              "      <td>artes</td>\n",
              "      <td>justiça</td>\n",
              "      <td>justiça</td>\n",
              "      <td>política</td>\n",
              "    </tr>\n",
              "    <tr>\n",
              "      <th>6</th>\n",
              "      <td>nando</td>\n",
              "      <td>todos</td>\n",
              "      <td>cerca</td>\n",
              "      <td>país</td>\n",
              "    </tr>\n",
              "    <tr>\n",
              "      <th>7</th>\n",
              "      <td>moura</td>\n",
              "      <td>federal</td>\n",
              "      <td>deputados</td>\n",
              "      <td>contra</td>\n",
              "    </tr>\n",
              "    <tr>\n",
              "      <th>8</th>\n",
              "      <td>injúria</td>\n",
              "      <td>outra</td>\n",
              "      <td>política</td>\n",
              "      <td>federal</td>\n",
              "    </tr>\n",
              "    <tr>\n",
              "      <th>9</th>\n",
              "      <td>difamação</td>\n",
              "      <td>tudo</td>\n",
              "      <td>comissão</td>\n",
              "      <td>ter</td>\n",
              "    </tr>\n",
              "  </tbody>\n",
              "</table>\n",
              "</div>"
            ],
            "text/plain": [
              "         MIM       EMIM           X²        Dice\n",
              "0   requereu    reforma      reforma   bolsonaro\n",
              "1      penal  bolsonaro  previdência         ser\n",
              "2      corre     brasil        outra      brasil\n",
              "3   especial        ser         tudo  presidente\n",
              "4       embu   política        falta       todos\n",
              "5      artes    justiça      justiça    política\n",
              "6      nando      todos        cerca        país\n",
              "7      moura    federal    deputados      contra\n",
              "8    injúria      outra     política     federal\n",
              "9  difamação       tudo     comissão         ter"
            ]
          },
          "metadata": {
            "tags": []
          },
          "execution_count": 11
        }
      ]
    },
    {
      "cell_type": "markdown",
      "metadata": {
        "id": "wAwnr61G163F",
        "colab_type": "text"
      },
      "source": [
        "Tabela para a palavra **federal**:"
      ]
    },
    {
      "cell_type": "code",
      "metadata": {
        "id": "dRbvK9fsYiYo",
        "colab_type": "code",
        "outputId": "e3ebde12-231f-47b4-f63f-5edcb01d5410",
        "colab": {
          "base_uri": "https://localhost:8080/",
          "height": 359
        }
      },
      "source": [
        "pd.DataFrame(build_table(termos[4], index)) "
      ],
      "execution_count": 0,
      "outputs": [
        {
          "output_type": "execute_result",
          "data": {
            "text/html": [
              "<div>\n",
              "<style scoped>\n",
              "    .dataframe tbody tr th:only-of-type {\n",
              "        vertical-align: middle;\n",
              "    }\n",
              "\n",
              "    .dataframe tbody tr th {\n",
              "        vertical-align: top;\n",
              "    }\n",
              "\n",
              "    .dataframe thead th {\n",
              "        text-align: right;\n",
              "    }\n",
              "</style>\n",
              "<table border=\"1\" class=\"dataframe\">\n",
              "  <thead>\n",
              "    <tr style=\"text-align: right;\">\n",
              "      <th></th>\n",
              "      <th>MIM</th>\n",
              "      <th>EMIM</th>\n",
              "      <th>X²</th>\n",
              "      <th>Dice</th>\n",
              "    </tr>\n",
              "  </thead>\n",
              "  <tbody>\n",
              "    <tr>\n",
              "      <th>0</th>\n",
              "      <td>defendia</td>\n",
              "      <td>ministro</td>\n",
              "      <td>ministro</td>\n",
              "      <td>ministro</td>\n",
              "    </tr>\n",
              "    <tr>\n",
              "      <th>1</th>\n",
              "      <td>lobista</td>\n",
              "      <td>justiça</td>\n",
              "      <td>justiça</td>\n",
              "      <td>justiça</td>\n",
              "    </tr>\n",
              "    <tr>\n",
              "      <th>2</th>\n",
              "      <td>denunciou</td>\n",
              "      <td>direitos</td>\n",
              "      <td>tribunal</td>\n",
              "      <td>direitos</td>\n",
              "    </tr>\n",
              "    <tr>\n",
              "      <th>3</th>\n",
              "      <td>furnas</td>\n",
              "      <td>prisão</td>\n",
              "      <td>prisão</td>\n",
              "      <td>governo</td>\n",
              "    </tr>\n",
              "    <tr>\n",
              "      <th>4</th>\n",
              "      <td>dino</td>\n",
              "      <td>governo</td>\n",
              "      <td>fernando</td>\n",
              "      <td>prisão</td>\n",
              "    </tr>\n",
              "    <tr>\n",
              "      <th>5</th>\n",
              "      <td>miraglia</td>\n",
              "      <td>tribunal</td>\n",
              "      <td>investigações</td>\n",
              "      <td>ano</td>\n",
              "    </tr>\n",
              "    <tr>\n",
              "      <th>6</th>\n",
              "      <td>comeu</td>\n",
              "      <td>polícia</td>\n",
              "      <td>humanos</td>\n",
              "      <td>nacional</td>\n",
              "    </tr>\n",
              "    <tr>\n",
              "      <th>7</th>\n",
              "      <td>pão</td>\n",
              "      <td>desde</td>\n",
              "      <td>polícia</td>\n",
              "      <td>ser</td>\n",
              "    </tr>\n",
              "    <tr>\n",
              "      <th>8</th>\n",
              "      <td>amaçou</td>\n",
              "      <td>deputado</td>\n",
              "      <td>direitos</td>\n",
              "      <td>ter</td>\n",
              "    </tr>\n",
              "    <tr>\n",
              "      <th>9</th>\n",
              "      <td>helicóptero</td>\n",
              "      <td>processo</td>\n",
              "      <td>civil</td>\n",
              "      <td>público</td>\n",
              "    </tr>\n",
              "  </tbody>\n",
              "</table>\n",
              "</div>"
            ],
            "text/plain": [
              "           MIM      EMIM             X²      Dice\n",
              "0     defendia  ministro       ministro  ministro\n",
              "1      lobista   justiça        justiça   justiça\n",
              "2    denunciou  direitos       tribunal  direitos\n",
              "3       furnas    prisão         prisão   governo\n",
              "4         dino   governo       fernando    prisão\n",
              "5     miraglia  tribunal  investigações       ano\n",
              "6        comeu   polícia        humanos  nacional\n",
              "7          pão     desde        polícia       ser\n",
              "8       amaçou  deputado       direitos       ter\n",
              "9  helicóptero  processo          civil   público"
            ]
          },
          "metadata": {
            "tags": []
          },
          "execution_count": 12
        }
      ]
    },
    {
      "cell_type": "markdown",
      "metadata": {
        "id": "QPe6tYN52Hwf",
        "colab_type": "text"
      },
      "source": [
        "Podemos notar que o coeficiente de **Dice**, **EMIM** e **Chi-squared** retornam resultados bem relacionados ao termo de pesquisa, já que, ao contrário de **MIM**, não priorizam sempre palavras de baixa ocorrência, fazendo com que os resultados sejam mais generalistas. No entanto, os melhores resultados foram o do coeficiente de **Dice**, já que ele retorna resultados parecidos com as outras métricas generalistas com um cálculo bem mais simples. "
      ]
    },
    {
      "cell_type": "markdown",
      "metadata": {
        "id": "5OduKts53JVz",
        "colab_type": "text"
      },
      "source": [
        "# Expansão de consulta.\n",
        "\n",
        "Utilizando o coeficiente de **Dice**, vamos utilizar a técnica termo-por-vez expandido-a com os top-3, top-5 e top-10 documentos. \n"
      ]
    },
    {
      "cell_type": "code",
      "metadata": {
        "id": "_A2by3onGGMu",
        "colab_type": "code",
        "colab": {}
      },
      "source": [
        "def get_top_results(k, results):\n",
        "  top = []\n",
        "  for i in range(1, k+1):\n",
        "    if results:\n",
        "      current_top = hp._heappop_max(results)\n",
        "      top.append(current_top)\n",
        "  return top\n",
        "\n",
        "def term_at_a_time_retrieval(query, index, k):\n",
        "  accumulators = {}\n",
        "  inverted_lists = []\n",
        "  for term in query.split():\n",
        "    inverted_list = index[term]\n",
        "    inverted_lists.append(inverted_list)\n",
        "  for inv_list in inverted_lists:\n",
        "    for doc,occurrence in inv_list.items():\n",
        "      if doc in accumulators:\n",
        "        accumulators[doc] += occurrence\n",
        "      else:\n",
        "        accumulators[doc] = occurrence\n",
        "  results = [(score, document) for document,score in accumulators.items()]\n",
        "  hp._heapify_max(results)\n",
        "  top = get_top_results(k, results)\n",
        "  return top\n",
        "\n",
        "def index_top_docs(query, k):\n",
        "  top_docs = [doc for score, doc in term_at_a_time_retrieval(query, index, k)]\n",
        "  top_docs_rank = {}\n",
        "  for posting in index:\n",
        "    for document,score in index[posting].items():\n",
        "      if document in top_docs:\n",
        "        if posting in top_docs_rank:\n",
        "          top_docs_rank[posting][document] = score\n",
        "        else:\n",
        "          top_docs_rank[posting] = {}\n",
        "          top_docs_rank[posting][document] = score\n",
        "  return top_docs_rank"
      ],
      "execution_count": 0,
      "outputs": []
    },
    {
      "cell_type": "code",
      "metadata": {
        "id": "VyklJSPZnmaz",
        "colab_type": "code",
        "colab": {}
      },
      "source": [
        "def expand_query(term, k):\n",
        "  new_index = index_top_docs(term, k)\n",
        "  return build_table(term,new_index)['Dice']"
      ],
      "execution_count": 0,
      "outputs": []
    },
    {
      "cell_type": "code",
      "metadata": {
        "id": "N4tvoRgFy7Bw",
        "colab_type": "code",
        "colab": {}
      },
      "source": [
        "def build_expand_table(term):\n",
        "  top_3 = expand_query(term, 3)\n",
        "  top_5 = expand_query(term, 5)\n",
        "  top_10 = expand_query(term, 10)\n",
        "  return {'Top 3': top_3, 'Top 5': top_5, 'Top 10': top_10}"
      ],
      "execution_count": 0,
      "outputs": []
    },
    {
      "cell_type": "markdown",
      "metadata": {
        "id": "kzcGf07I3nKJ",
        "colab_type": "text"
      },
      "source": [
        "Para **presidente**, temos:"
      ]
    },
    {
      "cell_type": "code",
      "metadata": {
        "id": "3vOg6EFzy7Zm",
        "colab_type": "code",
        "outputId": "3ad4e66a-2817-481b-d44d-df5d88d46859",
        "colab": {
          "base_uri": "https://localhost:8080/",
          "height": 359
        }
      },
      "source": [
        "pd.DataFrame(build_expand_table(termos[0]))"
      ],
      "execution_count": 0,
      "outputs": [
        {
          "output_type": "execute_result",
          "data": {
            "text/html": [
              "<div>\n",
              "<style scoped>\n",
              "    .dataframe tbody tr th:only-of-type {\n",
              "        vertical-align: middle;\n",
              "    }\n",
              "\n",
              "    .dataframe tbody tr th {\n",
              "        vertical-align: top;\n",
              "    }\n",
              "\n",
              "    .dataframe thead th {\n",
              "        text-align: right;\n",
              "    }\n",
              "</style>\n",
              "<table border=\"1\" class=\"dataframe\">\n",
              "  <thead>\n",
              "    <tr style=\"text-align: right;\">\n",
              "      <th></th>\n",
              "      <th>Top 3</th>\n",
              "      <th>Top 5</th>\n",
              "      <th>Top 10</th>\n",
              "    </tr>\n",
              "  </thead>\n",
              "  <tbody>\n",
              "    <tr>\n",
              "      <th>0</th>\n",
              "      <td>estado</td>\n",
              "      <td>governo</td>\n",
              "      <td>bolsonaro</td>\n",
              "    </tr>\n",
              "    <tr>\n",
              "      <th>1</th>\n",
              "      <td>vezes</td>\n",
              "      <td>jair</td>\n",
              "      <td>governo</td>\n",
              "    </tr>\n",
              "    <tr>\n",
              "      <th>2</th>\n",
              "      <td>janeiro</td>\n",
              "      <td>bolsonaro</td>\n",
              "      <td>jair</td>\n",
              "    </tr>\n",
              "    <tr>\n",
              "      <th>3</th>\n",
              "      <td>governo</td>\n",
              "      <td>contra</td>\n",
              "      <td>contra</td>\n",
              "    </tr>\n",
              "    <tr>\n",
              "      <th>4</th>\n",
              "      <td>jair</td>\n",
              "      <td>grupo</td>\n",
              "      <td>brasil</td>\n",
              "    </tr>\n",
              "    <tr>\n",
              "      <th>5</th>\n",
              "      <td>bolsonaro</td>\n",
              "      <td>ministro</td>\n",
              "      <td>poder</td>\n",
              "    </tr>\n",
              "    <tr>\n",
              "      <th>6</th>\n",
              "      <td>onde</td>\n",
              "      <td>direitos</td>\n",
              "      <td>onde</td>\n",
              "    </tr>\n",
              "    <tr>\n",
              "      <th>7</th>\n",
              "      <td>parte</td>\n",
              "      <td>ainda</td>\n",
              "      <td>ser</td>\n",
              "    </tr>\n",
              "    <tr>\n",
              "      <th>8</th>\n",
              "      <td>contra</td>\n",
              "      <td>janeiro</td>\n",
              "      <td>fazer</td>\n",
              "    </tr>\n",
              "    <tr>\n",
              "      <th>9</th>\n",
              "      <td>havia</td>\n",
              "      <td>durante</td>\n",
              "      <td>país</td>\n",
              "    </tr>\n",
              "  </tbody>\n",
              "</table>\n",
              "</div>"
            ],
            "text/plain": [
              "       Top 3      Top 5     Top 10\n",
              "0     estado    governo  bolsonaro\n",
              "1      vezes       jair    governo\n",
              "2    janeiro  bolsonaro       jair\n",
              "3    governo     contra     contra\n",
              "4       jair      grupo     brasil\n",
              "5  bolsonaro   ministro      poder\n",
              "6       onde   direitos       onde\n",
              "7      parte      ainda        ser\n",
              "8     contra    janeiro      fazer\n",
              "9      havia    durante       país"
            ]
          },
          "metadata": {
            "tags": []
          },
          "execution_count": 16
        }
      ]
    },
    {
      "cell_type": "markdown",
      "metadata": {
        "id": "dZ6W94bn3rAm",
        "colab_type": "text"
      },
      "source": [
        "Para **lula**, temos:"
      ]
    },
    {
      "cell_type": "code",
      "metadata": {
        "id": "DjDOU2cvy7q_",
        "colab_type": "code",
        "outputId": "013197b3-7282-45d4-d99b-401a508d58fb",
        "colab": {
          "base_uri": "https://localhost:8080/",
          "height": 359
        }
      },
      "source": [
        "pd.DataFrame(build_expand_table(termos[1]))"
      ],
      "execution_count": 0,
      "outputs": [
        {
          "output_type": "execute_result",
          "data": {
            "text/html": [
              "<div>\n",
              "<style scoped>\n",
              "    .dataframe tbody tr th:only-of-type {\n",
              "        vertical-align: middle;\n",
              "    }\n",
              "\n",
              "    .dataframe tbody tr th {\n",
              "        vertical-align: top;\n",
              "    }\n",
              "\n",
              "    .dataframe thead th {\n",
              "        text-align: right;\n",
              "    }\n",
              "</style>\n",
              "<table border=\"1\" class=\"dataframe\">\n",
              "  <thead>\n",
              "    <tr style=\"text-align: right;\">\n",
              "      <th></th>\n",
              "      <th>Top 3</th>\n",
              "      <th>Top 5</th>\n",
              "      <th>Top 10</th>\n",
              "    </tr>\n",
              "  </thead>\n",
              "  <tbody>\n",
              "    <tr>\n",
              "      <th>0</th>\n",
              "      <td>justiça</td>\n",
              "      <td>brasil</td>\n",
              "      <td>brasil</td>\n",
              "    </tr>\n",
              "    <tr>\n",
              "      <th>1</th>\n",
              "      <td>ano</td>\n",
              "      <td>justiça</td>\n",
              "      <td>bolsonaro</td>\n",
              "    </tr>\n",
              "    <tr>\n",
              "      <th>2</th>\n",
              "      <td>outros</td>\n",
              "      <td>pessoas</td>\n",
              "      <td>disse</td>\n",
              "    </tr>\n",
              "    <tr>\n",
              "      <th>3</th>\n",
              "      <td>ser</td>\n",
              "      <td>ano</td>\n",
              "      <td>ser</td>\n",
              "    </tr>\n",
              "    <tr>\n",
              "      <th>4</th>\n",
              "      <td>dia</td>\n",
              "      <td>porque</td>\n",
              "      <td>contra</td>\n",
              "    </tr>\n",
              "    <tr>\n",
              "      <th>5</th>\n",
              "      <td>brasil</td>\n",
              "      <td>outros</td>\n",
              "      <td>todos</td>\n",
              "    </tr>\n",
              "    <tr>\n",
              "      <th>6</th>\n",
              "      <td>política</td>\n",
              "      <td>ser</td>\n",
              "      <td>direitos</td>\n",
              "    </tr>\n",
              "    <tr>\n",
              "      <th>7</th>\n",
              "      <td>liberdade</td>\n",
              "      <td>contra</td>\n",
              "      <td>democracia</td>\n",
              "    </tr>\n",
              "    <tr>\n",
              "      <th>8</th>\n",
              "      <td>federal</td>\n",
              "      <td>dia</td>\n",
              "      <td>governo</td>\n",
              "    </tr>\n",
              "    <tr>\n",
              "      <th>9</th>\n",
              "      <td>preso</td>\n",
              "      <td>política</td>\n",
              "      <td>jair</td>\n",
              "    </tr>\n",
              "  </tbody>\n",
              "</table>\n",
              "</div>"
            ],
            "text/plain": [
              "       Top 3     Top 5      Top 10\n",
              "0    justiça    brasil      brasil\n",
              "1        ano   justiça   bolsonaro\n",
              "2     outros   pessoas       disse\n",
              "3        ser       ano         ser\n",
              "4        dia    porque      contra\n",
              "5     brasil    outros       todos\n",
              "6   política       ser    direitos\n",
              "7  liberdade    contra  democracia\n",
              "8    federal       dia     governo\n",
              "9      preso  política        jair"
            ]
          },
          "metadata": {
            "tags": []
          },
          "execution_count": 17
        }
      ]
    },
    {
      "cell_type": "markdown",
      "metadata": {
        "id": "VvVTMr103tX-",
        "colab_type": "text"
      },
      "source": [
        "Para **bolsonaro**, temos:"
      ]
    },
    {
      "cell_type": "code",
      "metadata": {
        "id": "SVaxxZcny7-0",
        "colab_type": "code",
        "outputId": "dc8ebe9d-870c-4e84-c09f-b42ce2f162c6",
        "colab": {
          "base_uri": "https://localhost:8080/",
          "height": 359
        }
      },
      "source": [
        "pd.DataFrame(build_expand_table(termos[2]))"
      ],
      "execution_count": 0,
      "outputs": [
        {
          "output_type": "execute_result",
          "data": {
            "text/html": [
              "<div>\n",
              "<style scoped>\n",
              "    .dataframe tbody tr th:only-of-type {\n",
              "        vertical-align: middle;\n",
              "    }\n",
              "\n",
              "    .dataframe tbody tr th {\n",
              "        vertical-align: top;\n",
              "    }\n",
              "\n",
              "    .dataframe thead th {\n",
              "        text-align: right;\n",
              "    }\n",
              "</style>\n",
              "<table border=\"1\" class=\"dataframe\">\n",
              "  <thead>\n",
              "    <tr style=\"text-align: right;\">\n",
              "      <th></th>\n",
              "      <th>Top 3</th>\n",
              "      <th>Top 5</th>\n",
              "      <th>Top 10</th>\n",
              "    </tr>\n",
              "  </thead>\n",
              "  <tbody>\n",
              "    <tr>\n",
              "      <th>0</th>\n",
              "      <td>governo</td>\n",
              "      <td>governo</td>\n",
              "      <td>governo</td>\n",
              "    </tr>\n",
              "    <tr>\n",
              "      <th>1</th>\n",
              "      <td>jair</td>\n",
              "      <td>jair</td>\n",
              "      <td>jair</td>\n",
              "    </tr>\n",
              "    <tr>\n",
              "      <th>2</th>\n",
              "      <td>tudo</td>\n",
              "      <td>presidente</td>\n",
              "      <td>ser</td>\n",
              "    </tr>\n",
              "    <tr>\n",
              "      <th>3</th>\n",
              "      <td>passado</td>\n",
              "      <td>ainda</td>\n",
              "      <td>presidente</td>\n",
              "    </tr>\n",
              "    <tr>\n",
              "      <th>4</th>\n",
              "      <td>presidente</td>\n",
              "      <td>anos</td>\n",
              "      <td>ainda</td>\n",
              "    </tr>\n",
              "    <tr>\n",
              "      <th>5</th>\n",
              "      <td>ter</td>\n",
              "      <td>tempo</td>\n",
              "      <td>brasil</td>\n",
              "    </tr>\n",
              "    <tr>\n",
              "      <th>6</th>\n",
              "      <td>ainda</td>\n",
              "      <td>onde</td>\n",
              "      <td>ter</td>\n",
              "    </tr>\n",
              "    <tr>\n",
              "      <th>7</th>\n",
              "      <td>poder</td>\n",
              "      <td>ser</td>\n",
              "      <td>contra</td>\n",
              "    </tr>\n",
              "    <tr>\n",
              "      <th>8</th>\n",
              "      <td>institucional</td>\n",
              "      <td>contra</td>\n",
              "      <td>país</td>\n",
              "    </tr>\n",
              "    <tr>\n",
              "      <th>9</th>\n",
              "      <td>executivo</td>\n",
              "      <td>país</td>\n",
              "      <td>política</td>\n",
              "    </tr>\n",
              "  </tbody>\n",
              "</table>\n",
              "</div>"
            ],
            "text/plain": [
              "           Top 3       Top 5      Top 10\n",
              "0        governo     governo     governo\n",
              "1           jair        jair        jair\n",
              "2           tudo  presidente         ser\n",
              "3        passado       ainda  presidente\n",
              "4     presidente        anos       ainda\n",
              "5            ter       tempo      brasil\n",
              "6          ainda        onde         ter\n",
              "7          poder         ser      contra\n",
              "8  institucional      contra        país\n",
              "9      executivo        país    política"
            ]
          },
          "metadata": {
            "tags": []
          },
          "execution_count": 18
        }
      ]
    },
    {
      "cell_type": "markdown",
      "metadata": {
        "id": "rUMA5NJm33Nq",
        "colab_type": "text"
      },
      "source": [
        "Para **governo**, temos:"
      ]
    },
    {
      "cell_type": "code",
      "metadata": {
        "id": "1lVuqcoHy8S6",
        "colab_type": "code",
        "outputId": "7b50efc5-23fb-4c73-fed2-3003a39921f0",
        "colab": {
          "base_uri": "https://localhost:8080/",
          "height": 359
        }
      },
      "source": [
        "pd.DataFrame(build_expand_table(termos[3]))"
      ],
      "execution_count": 0,
      "outputs": [
        {
          "output_type": "execute_result",
          "data": {
            "text/html": [
              "<div>\n",
              "<style scoped>\n",
              "    .dataframe tbody tr th:only-of-type {\n",
              "        vertical-align: middle;\n",
              "    }\n",
              "\n",
              "    .dataframe tbody tr th {\n",
              "        vertical-align: top;\n",
              "    }\n",
              "\n",
              "    .dataframe thead th {\n",
              "        text-align: right;\n",
              "    }\n",
              "</style>\n",
              "<table border=\"1\" class=\"dataframe\">\n",
              "  <thead>\n",
              "    <tr style=\"text-align: right;\">\n",
              "      <th></th>\n",
              "      <th>Top 3</th>\n",
              "      <th>Top 5</th>\n",
              "      <th>Top 10</th>\n",
              "    </tr>\n",
              "  </thead>\n",
              "  <tbody>\n",
              "    <tr>\n",
              "      <th>0</th>\n",
              "      <td>janeiro</td>\n",
              "      <td>jair</td>\n",
              "      <td>bolsonaro</td>\n",
              "    </tr>\n",
              "    <tr>\n",
              "      <th>1</th>\n",
              "      <td>jair</td>\n",
              "      <td>bolsonaro</td>\n",
              "      <td>ser</td>\n",
              "    </tr>\n",
              "    <tr>\n",
              "      <th>2</th>\n",
              "      <td>bolsonaro</td>\n",
              "      <td>durante</td>\n",
              "      <td>jair</td>\n",
              "    </tr>\n",
              "    <tr>\n",
              "      <th>3</th>\n",
              "      <td>durante</td>\n",
              "      <td>contra</td>\n",
              "      <td>política</td>\n",
              "    </tr>\n",
              "    <tr>\n",
              "      <th>4</th>\n",
              "      <td>ser</td>\n",
              "      <td>presidente</td>\n",
              "      <td>sobre</td>\n",
              "    </tr>\n",
              "    <tr>\n",
              "      <th>5</th>\n",
              "      <td>crime</td>\n",
              "      <td>política</td>\n",
              "      <td>federal</td>\n",
              "    </tr>\n",
              "    <tr>\n",
              "      <th>6</th>\n",
              "      <td>contra</td>\n",
              "      <td>grupo</td>\n",
              "      <td>reforma</td>\n",
              "    </tr>\n",
              "    <tr>\n",
              "      <th>7</th>\n",
              "      <td>brasil</td>\n",
              "      <td>direitos</td>\n",
              "      <td>ainda</td>\n",
              "    </tr>\n",
              "    <tr>\n",
              "      <th>8</th>\n",
              "      <td>presidente</td>\n",
              "      <td>ainda</td>\n",
              "      <td>público</td>\n",
              "    </tr>\n",
              "    <tr>\n",
              "      <th>9</th>\n",
              "      <td>política</td>\n",
              "      <td>anos</td>\n",
              "      <td>anos</td>\n",
              "    </tr>\n",
              "  </tbody>\n",
              "</table>\n",
              "</div>"
            ],
            "text/plain": [
              "        Top 3       Top 5     Top 10\n",
              "0     janeiro        jair  bolsonaro\n",
              "1        jair   bolsonaro        ser\n",
              "2   bolsonaro     durante       jair\n",
              "3     durante      contra   política\n",
              "4         ser  presidente      sobre\n",
              "5       crime    política    federal\n",
              "6      contra       grupo    reforma\n",
              "7      brasil    direitos      ainda\n",
              "8  presidente       ainda    público\n",
              "9    política        anos       anos"
            ]
          },
          "metadata": {
            "tags": []
          },
          "execution_count": 19
        }
      ]
    },
    {
      "cell_type": "markdown",
      "metadata": {
        "id": "Y3s0Vll3367t",
        "colab_type": "text"
      },
      "source": [
        "Para **federal**, temos:"
      ]
    },
    {
      "cell_type": "code",
      "metadata": {
        "id": "PUHcAhJbzIS7",
        "colab_type": "code",
        "outputId": "53783273-b007-4415-acf0-bacf00842612",
        "colab": {
          "base_uri": "https://localhost:8080/",
          "height": 359
        }
      },
      "source": [
        "pd.DataFrame(build_expand_table(termos[4]))"
      ],
      "execution_count": 0,
      "outputs": [
        {
          "output_type": "execute_result",
          "data": {
            "text/html": [
              "<div>\n",
              "<style scoped>\n",
              "    .dataframe tbody tr th:only-of-type {\n",
              "        vertical-align: middle;\n",
              "    }\n",
              "\n",
              "    .dataframe tbody tr th {\n",
              "        vertical-align: top;\n",
              "    }\n",
              "\n",
              "    .dataframe thead th {\n",
              "        text-align: right;\n",
              "    }\n",
              "</style>\n",
              "<table border=\"1\" class=\"dataframe\">\n",
              "  <thead>\n",
              "    <tr style=\"text-align: right;\">\n",
              "      <th></th>\n",
              "      <th>Top 3</th>\n",
              "      <th>Top 5</th>\n",
              "      <th>Top 10</th>\n",
              "    </tr>\n",
              "  </thead>\n",
              "  <tbody>\n",
              "    <tr>\n",
              "      <th>0</th>\n",
              "      <td>estado</td>\n",
              "      <td>brasil</td>\n",
              "      <td>governo</td>\n",
              "    </tr>\n",
              "    <tr>\n",
              "      <th>1</th>\n",
              "      <td>direito</td>\n",
              "      <td>ministério</td>\n",
              "      <td>direitos</td>\n",
              "    </tr>\n",
              "    <tr>\n",
              "      <th>2</th>\n",
              "      <td>havia</td>\n",
              "      <td>público</td>\n",
              "      <td>público</td>\n",
              "    </tr>\n",
              "    <tr>\n",
              "      <th>3</th>\n",
              "      <td>brasil</td>\n",
              "      <td>processo</td>\n",
              "      <td>presidente</td>\n",
              "    </tr>\n",
              "    <tr>\n",
              "      <th>4</th>\n",
              "      <td>assim</td>\n",
              "      <td>janeiro</td>\n",
              "      <td>ministério</td>\n",
              "    </tr>\n",
              "    <tr>\n",
              "      <th>5</th>\n",
              "      <td>ter</td>\n",
              "      <td>governo</td>\n",
              "      <td>jair</td>\n",
              "    </tr>\n",
              "    <tr>\n",
              "      <th>6</th>\n",
              "      <td>presidência</td>\n",
              "      <td>ser</td>\n",
              "      <td>bolsonaro</td>\n",
              "    </tr>\n",
              "    <tr>\n",
              "      <th>7</th>\n",
              "      <td>pouco</td>\n",
              "      <td>contra</td>\n",
              "      <td>ser</td>\n",
              "    </tr>\n",
              "    <tr>\n",
              "      <th>8</th>\n",
              "      <td>ministério</td>\n",
              "      <td>havia</td>\n",
              "      <td>após</td>\n",
              "    </tr>\n",
              "    <tr>\n",
              "      <th>9</th>\n",
              "      <td>público</td>\n",
              "      <td>após</td>\n",
              "      <td>ministro</td>\n",
              "    </tr>\n",
              "  </tbody>\n",
              "</table>\n",
              "</div>"
            ],
            "text/plain": [
              "         Top 3       Top 5      Top 10\n",
              "0       estado      brasil     governo\n",
              "1      direito  ministério    direitos\n",
              "2        havia     público     público\n",
              "3       brasil    processo  presidente\n",
              "4        assim     janeiro  ministério\n",
              "5          ter     governo        jair\n",
              "6  presidência         ser   bolsonaro\n",
              "7        pouco      contra         ser\n",
              "8   ministério       havia        após\n",
              "9      público        após    ministro"
            ]
          },
          "metadata": {
            "tags": []
          },
          "execution_count": 20
        }
      ]
    }
  ]
}