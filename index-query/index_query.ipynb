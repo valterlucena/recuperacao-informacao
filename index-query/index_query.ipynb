{
  "nbformat": 4,
  "nbformat_minor": 0,
  "metadata": {
    "colab": {
      "name": "index-query.ipynb",
      "version": "0.3.2",
      "provenance": [],
      "collapsed_sections": [],
      "include_colab_link": true
    },
    "kernelspec": {
      "name": "python3",
      "display_name": "Python 3"
    }
  },
  "cells": [
    {
      "cell_type": "markdown",
      "metadata": {
        "id": "view-in-github",
        "colab_type": "text"
      },
      "source": [
        "<a href=\"https://colab.research.google.com/github/valterlucena/recuperacao-informacao/blob/master/index-query/index_query.ipynb\" target=\"_parent\"><img src=\"https://colab.research.google.com/assets/colab-badge.svg\" alt=\"Open In Colab\"/></a>"
      ]
    },
    {
      "cell_type": "code",
      "metadata": {
        "id": "LAEYLbEf4785",
        "colab_type": "code",
        "outputId": "f6aecbe1-2d09-4fcc-b9f0-e31903182ef1",
        "colab": {
          "base_uri": "https://localhost:8080/",
          "height": 179
        }
      },
      "source": [
        "import pandas as pd\n",
        "import numpy as np\n",
        "import re\n",
        "import nltk\n",
        "from nltk.tokenize import RegexpTokenizer\n",
        "from nltk.corpus import stopwords\n",
        "from nltk.stem import RSLPStemmer\n",
        "nltk.download('rslp')\n",
        "nltk.download('punkt')\n",
        "nltk.download('stopwords')\n",
        "nltk.download('averaged_perceptron_tagger')\n",
        "\n",
        "import collections\n",
        "import matplotlib.pyplot as plt\n",
        "import seaborn as sns\n",
        "%matplotlib inline"
      ],
      "execution_count": 2,
      "outputs": [
        {
          "output_type": "stream",
          "text": [
            "[nltk_data] Downloading package rslp to /root/nltk_data...\n",
            "[nltk_data]   Unzipping stemmers/rslp.zip.\n",
            "[nltk_data] Downloading package punkt to /root/nltk_data...\n",
            "[nltk_data]   Unzipping tokenizers/punkt.zip.\n",
            "[nltk_data] Downloading package stopwords to /root/nltk_data...\n",
            "[nltk_data]   Unzipping corpora/stopwords.zip.\n",
            "[nltk_data] Downloading package averaged_perceptron_tagger to\n",
            "[nltk_data]     /root/nltk_data...\n",
            "[nltk_data]   Unzipping taggers/averaged_perceptron_tagger.zip.\n"
          ],
          "name": "stdout"
        }
      ]
    },
    {
      "cell_type": "code",
      "metadata": {
        "id": "uQnDWw_d6Dd5",
        "colab_type": "code",
        "colab": {}
      },
      "source": [
        "DATA_URL = 'https://raw.githubusercontent.com/valterlucena/ri_lab_01/master/output/results.csv'\n",
        "news = pd.read_csv(DATA_URL).replace(np.nan, '', regex=True)"
      ],
      "execution_count": 0,
      "outputs": []
    },
    {
      "cell_type": "code",
      "metadata": {
        "id": "m-LambOp6D7w",
        "colab_type": "code",
        "colab": {}
      },
      "source": [
        "toker = RegexpTokenizer('''\\w+[-']*\\w*''')\n",
        "stop_words = stopwords.words('portuguese')\n",
        "\n",
        "def isValid(token):\n",
        "  return token not in stop_words and not bool(re.search(r'\\d', token))\n",
        "\n",
        "def build_index(documents):\n",
        "  index = {}\n",
        "  n = 0\n",
        "  for document in documents:\n",
        "    n += 1\n",
        "    tokens = [token for token in toker.tokenize(document.lower()) if isValid(token)]\n",
        "    for token in tokens:\n",
        "      occurrence = tokens.count(token)\n",
        "      if token not in index:\n",
        "        index[token] = {}\n",
        "      if n not in index[token]:\n",
        "        index[token][n] = occurrence\n",
        "  return index\n",
        "\n",
        "index = build_index(news.text)\n",
        "\n",
        "data = {'token':list(index.keys()), 'oc_list':list(index.values())}\n",
        "df = pd.DataFrame(data)\n",
        "#df.to_csv('index.csv')"
      ],
      "execution_count": 0,
      "outputs": []
    },
    {
      "cell_type": "code",
      "metadata": {
        "id": "bhAWrwSybXPF",
        "colab_type": "code",
        "outputId": "d768df90-1886-41db-c0a9-5ebe1c4a20a5",
        "colab": {
          "base_uri": "https://localhost:8080/",
          "height": 377
        }
      },
      "source": [
        "def document_at_a_time_retrieval(Q, I, k):\n",
        "  L = []\n",
        "  R = []\n",
        "  for term in Q.split():\n",
        "    li = I[term]\n",
        "    L.append(li)\n",
        "  documents = []\n",
        "  for li in L:\n",
        "    documents.extend([document for document in li.keys() if document not in documents])\n",
        "  for document in documents:\n",
        "    sd = 0\n",
        "    for li in L:\n",
        "      for d,f in li.items():\n",
        "        if document == d:\n",
        "          sd += f\n",
        "    R.append((document, sd))\n",
        "  R = sorted(R, key = lambda x: x[1], reverse=True)[0:k]\n",
        "  return R\n",
        "\n",
        "document_at_a_time_retrieval('presidente lula', index, 20)\n"
      ],
      "execution_count": 57,
      "outputs": [
        {
          "output_type": "execute_result",
          "data": {
            "text/plain": [
              "[(117, 78),\n",
              " (120, 22),\n",
              " (29, 19),\n",
              " (99, 17),\n",
              " (64, 16),\n",
              " (50, 11),\n",
              " (75, 9),\n",
              " (111, 9),\n",
              " (123, 9),\n",
              " (65, 8),\n",
              " (45, 7),\n",
              " (98, 6),\n",
              " (136, 6),\n",
              " (15, 5),\n",
              " (89, 5),\n",
              " (94, 5),\n",
              " (125, 5),\n",
              " (10, 4),\n",
              " (93, 4),\n",
              " (37, 3)]"
            ]
          },
          "metadata": {
            "tags": []
          },
          "execution_count": 57
        }
      ]
    }
  ]
}