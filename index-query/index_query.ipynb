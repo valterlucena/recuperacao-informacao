{
  "nbformat": 4,
  "nbformat_minor": 0,
  "metadata": {
    "colab": {
      "name": "index-query.ipynb",
      "version": "0.3.2",
      "provenance": [],
      "collapsed_sections": [],
      "toc_visible": true,
      "include_colab_link": true
    },
    "kernelspec": {
      "name": "python3",
      "display_name": "Python 3"
    }
  },
  "cells": [
    {
      "cell_type": "markdown",
      "metadata": {
        "id": "view-in-github",
        "colab_type": "text"
      },
      "source": [
        "<a href=\"https://colab.research.google.com/github/valterlucena/recuperacao-informacao/blob/master/index-query/index_query.ipynb\" target=\"_parent\"><img src=\"https://colab.research.google.com/assets/colab-badge.svg\" alt=\"Open In Colab\"/></a>"
      ]
    },
    {
      "cell_type": "code",
      "metadata": {
        "id": "LAEYLbEf4785",
        "colab_type": "code",
        "outputId": "0d411413-e354-417b-87eb-1e737539c6d8",
        "colab": {
          "base_uri": "https://localhost:8080/",
          "height": 89
        }
      },
      "source": [
        "import pandas as pd\n",
        "import numpy as np\n",
        "import re\n",
        "import nltk\n",
        "from nltk.tokenize import RegexpTokenizer\n",
        "from nltk.corpus import stopwords\n",
        "nltk.download('punkt')\n",
        "nltk.download('stopwords')\n",
        "\n",
        "import collections\n",
        "import matplotlib.pyplot as plt\n",
        "%matplotlib inline\n",
        "\n",
        "import heapq as hp\n",
        "import time"
      ],
      "execution_count": 1,
      "outputs": [
        {
          "output_type": "stream",
          "text": [
            "[nltk_data] Downloading package punkt to /root/nltk_data...\n",
            "[nltk_data]   Package punkt is already up-to-date!\n",
            "[nltk_data] Downloading package stopwords to /root/nltk_data...\n",
            "[nltk_data]   Package stopwords is already up-to-date!\n"
          ],
          "name": "stdout"
        }
      ]
    },
    {
      "cell_type": "markdown",
      "metadata": {
        "id": "ICZ-HvLFCTp0",
        "colab_type": "text"
      },
      "source": [
        "# Introdução\n",
        "\n",
        "Nessa atividade exercitaremos conceitos de indexação e processamento de consulta. Os dados utilizados são de textos de notícias resultados da utilização de técnicas de *crawling* e *scrapping*. Os *scripts* para a coleta desses dados podem ser encontrados [neste](https://github.com/valterlucena/ri_lab_01) repositório.\n",
        "\n",
        "Primeiramente, vamos importar os dados que serão utilizados."
      ]
    },
    {
      "cell_type": "code",
      "metadata": {
        "id": "uQnDWw_d6Dd5",
        "colab_type": "code",
        "colab": {}
      },
      "source": [
        "DATA_URL = 'https://raw.githubusercontent.com/valterlucena/ri_lab_01/master/output/results.csv'\n",
        "news = pd.read_csv(DATA_URL).replace(np.nan, '', regex=True)"
      ],
      "execution_count": 0,
      "outputs": []
    },
    {
      "cell_type": "markdown",
      "metadata": {
        "id": "0Kcn_T9oGOkC",
        "colab_type": "text"
      },
      "source": [
        "# Índice Invertido\n",
        "\n",
        "Um índice é uma estrutura de dados projetada para tornar as buscas mais rápidas. O índice invertido é um nome genérico para uma classe de estruturas onde documentos são associados a palavras, ao invés de palavras a documentos.\n",
        "\n",
        "A seguir, construiremos um índice invertido para os documentos (texto das notícias) da nossa base de dados. Utilizaremos a função `tokenize` da biblioteca [NLTK](https://www.nltk.org/) associada à uma expressão regular, que considerará como *token* apenas as sequências de caracteres não-especiais (com exceção do hífen) ou numéricos que não formem *stopwords*."
      ]
    },
    {
      "cell_type": "code",
      "metadata": {
        "id": "m-LambOp6D7w",
        "colab_type": "code",
        "colab": {}
      },
      "source": [
        "toker = RegexpTokenizer('''\\w+[-']*\\w*''')\n",
        "stop_words = stopwords.words('portuguese')\n",
        "\n",
        "def isValid(token):\n",
        "  return token not in stop_words and not bool(re.search(r'\\d', token))\n",
        "\n",
        "def build_index(documents):\n",
        "  index = {}\n",
        "  n = 0\n",
        "  for document in documents:\n",
        "    n += 1\n",
        "    tokens = [token for token in toker.tokenize(document.lower()) if isValid(token)]\n",
        "    for token in tokens:\n",
        "      occurrence = tokens.count(token)\n",
        "      if token not in index:\n",
        "        index[token] = {}\n",
        "      if n not in index[token]:\n",
        "        index[token][n] = occurrence\n",
        "  return index"
      ],
      "execution_count": 0,
      "outputs": []
    },
    {
      "cell_type": "markdown",
      "metadata": {
        "id": "jiPXOERbNqbb",
        "colab_type": "text"
      },
      "source": [
        "O índice invertido construído trata-se de dicionário que associa um termo à uma lista invertida. Essa lista invertida, por sua vez, é outro dicionário que mapeia um documento à quantidade de vezes em que o termo associado à lista ocorre. "
      ]
    },
    {
      "cell_type": "code",
      "metadata": {
        "id": "sRcWXCebO831",
        "colab_type": "code",
        "colab": {
          "base_uri": "https://localhost:8080/",
          "height": 217
        },
        "outputId": "bcef4184-e82f-4895-cf80-f5d37ef6f1fd"
      },
      "source": [
        "index = build_index(news.text)\n",
        "for termo in list(index.keys())[:10]:\n",
        "  print(termo, index[termo])"
      ],
      "execution_count": 4,
      "outputs": [
        {
          "output_type": "stream",
          "text": [
            "ministério {1: 2, 2: 4, 5: 7, 16: 1, 17: 2, 44: 2, 45: 3, 54: 1, 65: 2, 83: 5, 98: 2, 102: 1, 109: 2, 111: 2, 120: 4, 124: 2, 125: 1, 136: 1, 137: 1, 142: 2}\n",
            "público {1: 3, 2: 4, 5: 1, 9: 1, 18: 2, 45: 1, 46: 1, 60: 1, 65: 1, 67: 1, 70: 1, 71: 1, 83: 2, 89: 3, 94: 1, 98: 1, 102: 1, 108: 1, 111: 1, 119: 1, 120: 5, 124: 2, 125: 1, 129: 1, 134: 1, 136: 1, 137: 1, 142: 1}\n",
            "estado {1: 1, 2: 3, 10: 2, 16: 6, 17: 1, 18: 1, 35: 1, 37: 1, 43: 1, 44: 1, 50: 1, 64: 1, 65: 1, 71: 1, 75: 3, 82: 1, 83: 1, 89: 1, 91: 1, 93: 1, 99: 6, 109: 1, 112: 1, 118: 4, 120: 1, 124: 1, 126: 3, 129: 1, 134: 2, 141: 1, 142: 1}\n",
            "paulo {1: 2, 5: 3, 18: 1, 27: 2, 29: 1, 37: 1, 39: 1, 51: 2, 52: 1, 63: 1, 65: 1, 69: 1, 75: 1, 78: 1, 85: 1, 86: 1, 89: 2, 94: 9, 105: 1, 107: 1, 108: 8, 115: 1, 117: 1, 122: 2, 123: 1, 124: 1, 132: 1, 141: 1, 142: 1}\n",
            "requereu {1: 1}\n",
            "junto {1: 1, 2: 1, 9: 1, 29: 1, 37: 1, 45: 1, 50: 1, 65: 1, 75: 2, 118: 1, 141: 3}\n",
            "justiça {1: 4, 2: 2, 6: 1, 16: 3, 18: 1, 29: 1, 39: 1, 44: 1, 45: 5, 46: 3, 54: 1, 64: 1, 65: 1, 75: 1, 78: 1, 83: 5, 89: 5, 102: 1, 108: 2, 117: 1, 118: 2, 120: 1, 122: 1, 137: 2, 141: 6}\n",
            "processo {1: 4, 2: 3, 5: 1, 6: 1, 10: 1, 15: 1, 18: 1, 37: 1, 45: 1, 65: 3, 69: 1, 70: 1, 83: 1, 89: 4, 91: 1, 98: 1, 107: 1, 117: 1, 120: 4, 129: 1, 136: 2, 141: 1}\n",
            "penal {1: 2, 5: 1, 83: 1, 89: 3, 98: 1}\n",
            "corre {1: 1, 118: 1}\n"
          ],
          "name": "stdout"
        }
      ]
    },
    {
      "cell_type": "markdown",
      "metadata": {
        "id": "Wx0OxxBcPyQe",
        "colab_type": "text"
      },
      "source": [
        "Agora, salvaremos o índice num arquivo csv."
      ]
    },
    {
      "cell_type": "code",
      "metadata": {
        "id": "jW8IWryR-1jb",
        "colab_type": "code",
        "colab": {}
      },
      "source": [
        "data = {'token':list(index.keys()), 'oc_list':list(index.values())}\n",
        "df = pd.DataFrame(data)\n",
        "df.to_csv('index.csv')"
      ],
      "execution_count": 0,
      "outputs": []
    },
    {
      "cell_type": "markdown",
      "metadata": {
        "id": "CJvlWEK8QoUr",
        "colab_type": "text"
      },
      "source": [
        "# Abordagens de processamento de consulta"
      ]
    },
    {
      "cell_type": "markdown",
      "metadata": {
        "id": "CxbCIKXeQyms",
        "colab_type": "text"
      },
      "source": [
        "O processamento de consultas é bem mais eficiente quando utiliza um índice. Aqui, utilizaremos dois algoritmos para processamento de consultas: **documento-por-vez** (*document-at-a-time*) e **termo-por-vez** (*term-at-a-time*). \n",
        "\n",
        "Inicialmente, definiremos algumas funções auxiliares que serão usadas nos algoritmos."
      ]
    },
    {
      "cell_type": "code",
      "metadata": {
        "id": "GlG0tWaUIs_4",
        "colab_type": "code",
        "colab": {}
      },
      "source": [
        "def get_documents_from_index(index):\n",
        "  documents = []\n",
        "  for _, inverted in index.items():\n",
        "    for document, _ in inverted.items():\n",
        "      documents.append(document)\n",
        "  documents = list(set(documents))\n",
        "  return documents\n",
        "\n",
        "def get_top_results(k, results):\n",
        "  top = []\n",
        "  for i in range(1, k+1):\n",
        "    if results:\n",
        "      current_top = hp._heappop_max(results)\n",
        "      top.append(current_top)\n",
        "  return top"
      ],
      "execution_count": 0,
      "outputs": []
    },
    {
      "cell_type": "markdown",
      "metadata": {
        "id": "S5Syq2pZSTLX",
        "colab_type": "text"
      },
      "source": [
        "A função `get_documents_from_index` retorna todos os documentos (representados por um inteiro identificador) da base de dados utilizada.\n",
        "\n",
        "A função `get_top_results` retorna os `k` resultados mais relevantes da consulta realizada."
      ]
    },
    {
      "cell_type": "markdown",
      "metadata": {
        "id": "cd6-OnooSv3h",
        "colab_type": "text"
      },
      "source": [
        "## Documento-por-vez\n",
        "\n",
        "Neste algoritmo, são calculadas pontuações (*scores*) processando todas as listas invertidas associadas ao termos um documento por vez. A pontuação resultante em cada documento refere-se à soma das ocorrências dos termos da consulta."
      ]
    },
    {
      "cell_type": "code",
      "metadata": {
        "id": "bhAWrwSybXPF",
        "colab_type": "code",
        "colab": {}
      },
      "source": [
        "def document_at_a_time_retrieval(query, index, k):\n",
        "  inverted_lists = []\n",
        "  results = []\n",
        "  for term in query.split():\n",
        "    inverted_list = index[term]\n",
        "    inverted_lists.append(inverted_list)\n",
        "  documents = get_documents_from_index(index)\n",
        "  for document in documents:\n",
        "    score = 0\n",
        "    for inv_list in inverted_lists:\n",
        "      for doc,occurrence in inv_list.items():\n",
        "        if document == doc:\n",
        "          score += occurrence\n",
        "    results.append((score, document))\n",
        "  hp._heapify_max(results)\n",
        "  top = get_top_results(k, results)\n",
        "  return top"
      ],
      "execution_count": 0,
      "outputs": []
    },
    {
      "cell_type": "markdown",
      "metadata": {
        "id": "gv_T2HjWWJ4n",
        "colab_type": "text"
      },
      "source": [
        "## Termo-por-vez\n",
        "\n",
        "Nesta abordagem, pontuações são acumuladas para documentos processando as listas de termos um termo de cada vez. "
      ]
    },
    {
      "cell_type": "code",
      "metadata": {
        "id": "E5JbpmmNmnxt",
        "colab_type": "code",
        "colab": {}
      },
      "source": [
        "def term_at_a_time_retrieval(query, index, k):\n",
        "  accumulators = {}\n",
        "  inverted_lists = []\n",
        "  for term in query.split():\n",
        "    inverted_list = index[term]\n",
        "    inverted_lists.append(inverted_list)\n",
        "  for inv_list in inverted_lists:\n",
        "    for doc,occurrence in inv_list.items():\n",
        "      if doc in accumulators:\n",
        "        accumulators[doc] += occurrence\n",
        "      else:\n",
        "        accumulators[doc] = occurrence\n",
        "  results = [(score, document) for document,score in accumulators.items()]\n",
        "  hp._heapify_max(results)\n",
        "  top = get_top_results(k, results)\n",
        "  return top"
      ],
      "execution_count": 0,
      "outputs": []
    },
    {
      "cell_type": "markdown",
      "metadata": {
        "id": "ygYY89QqX3kX",
        "colab_type": "text"
      },
      "source": [
        "## Eficiência\n",
        "\n",
        "A seguir, executaremos cinco consultas de um termo utilizando cada algoritmo e compararemos seus tempos de execução."
      ]
    },
    {
      "cell_type": "code",
      "metadata": {
        "id": "XgmDnYS76ckx",
        "colab_type": "code",
        "colab": {}
      },
      "source": [
        "termos = ['presidente', 'lula', 'bolsonaro', 'governo', 'federal']"
      ],
      "execution_count": 0,
      "outputs": []
    },
    {
      "cell_type": "markdown",
      "metadata": {
        "id": "29IDbn7SYIg0",
        "colab_type": "text"
      },
      "source": [
        "Definidos os termos de consulta, vamos processá-los.\n",
        "\n",
        "Primeiramente para a abordagem documento-por-vez."
      ]
    },
    {
      "cell_type": "code",
      "metadata": {
        "id": "LWcYK2tZ_CWw",
        "colab_type": "code",
        "colab": {}
      },
      "source": [
        "tempo_execucao_datr = []\n",
        "result_datr = []\n",
        "for termo in termos:\n",
        "  inicio = time.time()\n",
        "  datr = document_at_a_time_retrieval(termo, index, 10)\n",
        "  fim = time.time()\n",
        "  tempo_execucao_datr.append(fim - inicio)\n",
        "  result_datr.append(datr)"
      ],
      "execution_count": 0,
      "outputs": []
    },
    {
      "cell_type": "markdown",
      "metadata": {
        "id": "_wQvlr8MYUsa",
        "colab_type": "text"
      },
      "source": [
        "Agora para a abordagem termo-por-vez."
      ]
    },
    {
      "cell_type": "code",
      "metadata": {
        "id": "QZjr2rcF-_1w",
        "colab_type": "code",
        "colab": {}
      },
      "source": [
        "tempo_execucao_tatr = []\n",
        "result_tatr = []\n",
        "for termo in termos:\n",
        "  inicio = time.time()\n",
        "  tatr = term_at_a_time_retrieval(termo, index, 10)\n",
        "  fim = time.time()\n",
        "  tempo_execucao_tatr.append(fim - inicio)\n",
        "  result_tatr.append(tatr)"
      ],
      "execution_count": 0,
      "outputs": []
    },
    {
      "cell_type": "markdown",
      "metadata": {
        "id": "BA5Q9Oc5YYWa",
        "colab_type": "text"
      },
      "source": [
        "Com os dados coletados durante os experimentos, podemos montar um *dataframe*.\n"
      ]
    },
    {
      "cell_type": "code",
      "metadata": {
        "id": "IkqwfmF3ygwB",
        "colab_type": "code",
        "outputId": "27f38ba6-94c7-403c-eb60-6a0f0af498d2",
        "colab": {
          "base_uri": "https://localhost:8080/",
          "height": 289
        }
      },
      "source": [
        "pd.options.display.max_colwidth = 160\n",
        "queries = pd.DataFrame()\n",
        "queries['termo'] = termos\n",
        "queries['document_at_a_time'] = result_datr\n",
        "queries['tempo_doc'] = tempo_execucao_datr\n",
        "queries['term_at_a_time'] = result_tatr\n",
        "queries['tempo_term'] = tempo_execucao_tatr\n",
        "queries"
      ],
      "execution_count": 12,
      "outputs": [
        {
          "output_type": "execute_result",
          "data": {
            "text/html": [
              "<div>\n",
              "<style scoped>\n",
              "    .dataframe tbody tr th:only-of-type {\n",
              "        vertical-align: middle;\n",
              "    }\n",
              "\n",
              "    .dataframe tbody tr th {\n",
              "        vertical-align: top;\n",
              "    }\n",
              "\n",
              "    .dataframe thead th {\n",
              "        text-align: right;\n",
              "    }\n",
              "</style>\n",
              "<table border=\"1\" class=\"dataframe\">\n",
              "  <thead>\n",
              "    <tr style=\"text-align: right;\">\n",
              "      <th></th>\n",
              "      <th>termo</th>\n",
              "      <th>document_at_a_time</th>\n",
              "      <th>tempo_doc</th>\n",
              "      <th>term_at_a_time</th>\n",
              "      <th>tempo_term</th>\n",
              "    </tr>\n",
              "  </thead>\n",
              "  <tbody>\n",
              "    <tr>\n",
              "      <th>0</th>\n",
              "      <td>presidente</td>\n",
              "      <td>[(9, 75), (8, 99), (8, 65), (6, 136), (6, 45), (5, 98), (5, 94), (5, 15), (4, 93), (4, 10)]</td>\n",
              "      <td>0.008655</td>\n",
              "      <td>[(9, 75), (8, 99), (8, 65), (6, 136), (6, 45), (5, 98), (5, 94), (5, 15), (4, 93), (4, 10)]</td>\n",
              "      <td>0.000057</td>\n",
              "    </tr>\n",
              "    <tr>\n",
              "      <th>1</th>\n",
              "      <td>lula</td>\n",
              "      <td>[(78, 117), (22, 120), (17, 29), (15, 64), (9, 99), (8, 123), (8, 50), (7, 111), (5, 125), (3, 89)]</td>\n",
              "      <td>0.008370</td>\n",
              "      <td>[(78, 117), (22, 120), (17, 29), (15, 64), (9, 99), (8, 123), (8, 50), (7, 111), (5, 125), (3, 89)]</td>\n",
              "      <td>0.000021</td>\n",
              "    </tr>\n",
              "    <tr>\n",
              "      <th>2</th>\n",
              "      <td>bolsonaro</td>\n",
              "      <td>[(17, 99), (8, 136), (8, 105), (8, 98), (7, 75), (6, 137), (6, 101), (6, 45), (6, 15), (5, 73)]</td>\n",
              "      <td>0.009048</td>\n",
              "      <td>[(17, 99), (8, 136), (8, 105), (8, 98), (7, 75), (6, 137), (6, 101), (6, 45), (6, 15), (5, 73)]</td>\n",
              "      <td>0.000037</td>\n",
              "    </tr>\n",
              "    <tr>\n",
              "      <th>3</th>\n",
              "      <td>governo</td>\n",
              "      <td>[(11, 98), (8, 45), (7, 75), (7, 50), (6, 136), (6, 108), (6, 60), (6, 39), (5, 134), (5, 118)]</td>\n",
              "      <td>0.009045</td>\n",
              "      <td>[(11, 98), (8, 45), (7, 75), (7, 50), (6, 136), (6, 108), (6, 60), (6, 39), (5, 134), (5, 118)]</td>\n",
              "      <td>0.000056</td>\n",
              "    </tr>\n",
              "    <tr>\n",
              "      <th>4</th>\n",
              "      <td>federal</td>\n",
              "      <td>[(12, 120), (7, 141), (4, 142), (3, 98), (3, 45), (3, 2), (2, 137), (2, 136), (2, 134), (2, 123)]</td>\n",
              "      <td>0.009119</td>\n",
              "      <td>[(12, 120), (7, 141), (4, 142), (3, 98), (3, 45), (3, 2), (2, 137), (2, 136), (2, 134), (2, 123)]</td>\n",
              "      <td>0.000028</td>\n",
              "    </tr>\n",
              "  </tbody>\n",
              "</table>\n",
              "</div>"
            ],
            "text/plain": [
              "        termo  \\\n",
              "0  presidente   \n",
              "1        lula   \n",
              "2   bolsonaro   \n",
              "3     governo   \n",
              "4     federal   \n",
              "\n",
              "                                                                                    document_at_a_time  \\\n",
              "0          [(9, 75), (8, 99), (8, 65), (6, 136), (6, 45), (5, 98), (5, 94), (5, 15), (4, 93), (4, 10)]   \n",
              "1  [(78, 117), (22, 120), (17, 29), (15, 64), (9, 99), (8, 123), (8, 50), (7, 111), (5, 125), (3, 89)]   \n",
              "2      [(17, 99), (8, 136), (8, 105), (8, 98), (7, 75), (6, 137), (6, 101), (6, 45), (6, 15), (5, 73)]   \n",
              "3      [(11, 98), (8, 45), (7, 75), (7, 50), (6, 136), (6, 108), (6, 60), (6, 39), (5, 134), (5, 118)]   \n",
              "4    [(12, 120), (7, 141), (4, 142), (3, 98), (3, 45), (3, 2), (2, 137), (2, 136), (2, 134), (2, 123)]   \n",
              "\n",
              "   tempo_doc  \\\n",
              "0   0.008655   \n",
              "1   0.008370   \n",
              "2   0.009048   \n",
              "3   0.009045   \n",
              "4   0.009119   \n",
              "\n",
              "                                                                                        term_at_a_time  \\\n",
              "0          [(9, 75), (8, 99), (8, 65), (6, 136), (6, 45), (5, 98), (5, 94), (5, 15), (4, 93), (4, 10)]   \n",
              "1  [(78, 117), (22, 120), (17, 29), (15, 64), (9, 99), (8, 123), (8, 50), (7, 111), (5, 125), (3, 89)]   \n",
              "2      [(17, 99), (8, 136), (8, 105), (8, 98), (7, 75), (6, 137), (6, 101), (6, 45), (6, 15), (5, 73)]   \n",
              "3      [(11, 98), (8, 45), (7, 75), (7, 50), (6, 136), (6, 108), (6, 60), (6, 39), (5, 134), (5, 118)]   \n",
              "4    [(12, 120), (7, 141), (4, 142), (3, 98), (3, 45), (3, 2), (2, 137), (2, 136), (2, 134), (2, 123)]   \n",
              "\n",
              "   tempo_term  \n",
              "0    0.000057  \n",
              "1    0.000021  \n",
              "2    0.000037  \n",
              "3    0.000056  \n",
              "4    0.000028  "
            ]
          },
          "metadata": {
            "tags": []
          },
          "execution_count": 12
        }
      ]
    },
    {
      "cell_type": "markdown",
      "metadata": {
        "id": "B1sLQKIUZe8m",
        "colab_type": "text"
      },
      "source": [
        "Graficamente, temos:"
      ]
    },
    {
      "cell_type": "code",
      "metadata": {
        "id": "VvJUgGNiFkvx",
        "colab_type": "code",
        "outputId": "aa2aa4d4-cc83-4cbb-dd29-bf417bd98770",
        "colab": {
          "base_uri": "https://localhost:8080/",
          "height": 513
        }
      },
      "source": [
        "f, ax = plt.subplots(figsize=(8,8))\n",
        "plt.plot(queries['termo'], queries['tempo_doc'], linestyle=\"-\", marker=\"o\", color=\"red\", label=\"documento-por-vez\")\n",
        "plt.plot(queries['termo'], queries['tempo_term'], linestyle=\"-\", marker=\"o\", color=\"blue\", label=\"termo-por-vez\")\n",
        "plt.title('Tempo de execução para a consulta de cada termo.')\n",
        "plt.xlabel('Termo consultado')\n",
        "plt.ylabel('Duração da consulta (s)')\n",
        "plt.legend(bbox_to_anchor=(1.05, 1), loc=2, borderaxespad=0.)\n",
        "plt.show()"
      ],
      "execution_count": 13,
      "outputs": [
        {
          "output_type": "display_data",
          "data": {
            "image/png": "[encoded data removed]",
            "text/plain": [
              "<Figure size 576x576 with 1 Axes>"
            ]
          },
          "metadata": {
            "tags": []
          }
        }
      ]
    },
    {
      "cell_type": "markdown",
      "metadata": {
        "id": "JfwbUflEgSa4",
        "colab_type": "text"
      },
      "source": [
        "Neste gráfico, podemos observar que as consultas utilizando a abordagem documento-por-vez são mais lentas que utilizando a termo-por-vez. Isso se deve ao fato de que todos os documentos do índice são recuperados antes de cada consulta, e verificados um de cada vez.\n",
        "\n",
        "Comparando o tempo médio, chegamos à mesma conclusão."
      ]
    },
    {
      "cell_type": "code",
      "metadata": {
        "id": "BRuAYho8Hgdt",
        "colab_type": "code",
        "outputId": "627891c3-e223-4005-c626-8a427edae55f",
        "colab": {
          "base_uri": "https://localhost:8080/",
          "height": 513
        }
      },
      "source": [
        "abordagem = ['documento por vez', 'termo por vez']\n",
        "mean = [np.mean(tempo_execucao_datr), np.mean(tempo_execucao_tatr)]\n",
        "\n",
        "f, ax = plt.subplots(figsize=(8,8))\n",
        "plt.bar(abordagem, mean)\n",
        "plt.title('Tempo médio de execução de cada abordagem')\n",
        "plt.xlabel('Abordagem')\n",
        "plt.ylabel('Tempo médio (s)')\n",
        "plt.show()"
      ],
      "execution_count": 14,
      "outputs": [
        {
          "output_type": "display_data",
          "data": {
            "image/png": "[encoded data removed]",
            "text/plain": [
              "<Figure size 576x576 with 1 Axes>"
            ]
          },
          "metadata": {
            "tags": []
          }
        }
      ]
    }
  ]
}