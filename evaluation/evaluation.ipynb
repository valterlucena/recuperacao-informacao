{
  "nbformat": 4,
  "nbformat_minor": 0,
  "metadata": {
    "colab": {
      "name": "eva.ipynb",
      "version": "0.3.2",
      "provenance": [],
      "collapsed_sections": [],
      "include_colab_link": true
    },
    "kernelspec": {
      "name": "python3",
      "display_name": "Python 3"
    }
  },
  "cells": [
    {
      "cell_type": "markdown",
      "metadata": {
        "id": "view-in-github",
        "colab_type": "text"
      },
      "source": [
        "<a href=\"https://colab.research.google.com/github/valterlucena/recuperacao-informacao/blob/master/evaluation/evaluation.ipynb\" target=\"_parent\"><img src=\"https://colab.research.google.com/assets/colab-badge.svg\" alt=\"Open In Colab\"/></a>"
      ]
    },
    {
      "cell_type": "code",
      "metadata": {
        "id": "9CNopOy96LCI",
        "colab_type": "code",
        "outputId": "472a5087-c0aa-46a9-ddd4-b0e127327f85",
        "colab": {
          "base_uri": "https://localhost:8080/",
          "height": 107
        }
      },
      "source": [
        "import pandas as pd\n",
        "import numpy as np\n",
        "import re\n",
        "import nltk\n",
        "from nltk.tokenize import RegexpTokenizer\n",
        "from nltk.corpus import stopwords\n",
        "nltk.download('punkt')\n",
        "nltk.download('stopwords')"
      ],
      "execution_count": 1,
      "outputs": [
        {
          "output_type": "stream",
          "text": [
            "[nltk_data] Downloading package punkt to /root/nltk_data...\n",
            "[nltk_data]   Package punkt is already up-to-date!\n",
            "[nltk_data] Downloading package stopwords to /root/nltk_data...\n",
            "[nltk_data]   Package stopwords is already up-to-date!\n"
          ],
          "name": "stdout"
        },
        {
          "output_type": "execute_result",
          "data": {
            "text/plain": [
              "True"
            ]
          },
          "metadata": {
            "tags": []
          },
          "execution_count": 1
        }
      ]
    },
    {
      "cell_type": "code",
      "metadata": {
        "id": "WhmjC3AvAfNH",
        "colab_type": "code",
        "colab": {}
      },
      "source": [
        "DATA_URL = 'https://raw.githubusercontent.com/valterlucena/recuperacao-informacao/master/evaluation/results.csv'\n",
        "news = pd.read_csv(DATA_URL)"
      ],
      "execution_count": 0,
      "outputs": []
    },
    {
      "cell_type": "code",
      "metadata": {
        "id": "lq7WK1RbAhgf",
        "colab_type": "code",
        "colab": {}
      },
      "source": [
        "def isValid(token):\n",
        "  return not bool(re.search(r'\\d', token)) and len(token) > 2\n",
        "\n",
        "def total_documents():\n",
        "  return len(news)\n",
        "\n",
        "def get_tokens(document):\n",
        "  toker = RegexpTokenizer('''\\w+[-']*\\w*''')\n",
        "  stop_words = stopwords.words('portuguese')\n",
        "  return [token for token in toker.tokenize(document.lower()) if isValid(token) and token not in stop_words]\n",
        "\n",
        "def build_index(documents):\n",
        "  index = {}\n",
        "  n = 0\n",
        "  for document in documents:\n",
        "    n += 1\n",
        "    tokens = get_tokens(document)\n",
        "    for token in tokens:\n",
        "      occurrence = tokens.count(token)\n",
        "      if token not in index:\n",
        "        index[token] = {}\n",
        "      if n not in index[token]:\n",
        "        index[token][n] = occurrence\n",
        "  return index\n",
        "\n",
        "index = build_index(news.text)\n",
        "\n",
        "for posting in index:\n",
        "  k = len(index[posting])\n",
        "  idf = round(np.log((total_documents() + 1) / k), 2)\n",
        "  index[posting]['idf'] = idf\n",
        "  \n",
        "vocabulary = index.keys()"
      ],
      "execution_count": 0,
      "outputs": []
    },
    {
      "cell_type": "code",
      "metadata": {
        "id": "h8yOmx1VDLAn",
        "colab_type": "code",
        "colab": {}
      },
      "source": [
        "def binary_representation(query, document):\n",
        "  '''\n",
        "  Calcula a medida de similaridade entre a consulta e um documento\n",
        "  pela representação binária do modelo vetorial\n",
        "  '''\n",
        "  terms = query.split()\n",
        "  doc_tokens = get_tokens(document)\n",
        "  q = {}\n",
        "  d = {}\n",
        "  for term in terms:\n",
        "    q[term] = 0\n",
        "    d[term] = 0\n",
        "    if term in vocabulary:\n",
        "      q[term] = 1\n",
        "    if term in doc_tokens:\n",
        "      d[term] = 1  \n",
        "  measure = 0\n",
        "  for term in terms:\n",
        "    if q[term] != 0 and d[term] != 0:\n",
        "      measure += q[term] * d[term]  \n",
        "  return measure\n",
        "  \n",
        "def tf_representation(query, document):\n",
        "  '''\n",
        "  Calcula a medida de similaridade entre a consulta e um documento\n",
        "  pela representação TF do modelo vetorial\n",
        "  '''\n",
        "  terms = query.split()\n",
        "  doc_tokens = get_tokens(document)\n",
        "  q = {}\n",
        "  d = {}\n",
        "  for term in terms:\n",
        "    q[term] = 0\n",
        "    d[term] = 0\n",
        "    if term in vocabulary:\n",
        "      q[term] = terms.count(term)\n",
        "    if term in doc_tokens:\n",
        "      d[term] = doc_tokens.count(term)\n",
        "  measure = 0\n",
        "  for term in terms:\n",
        "    if q[term] != 0 and d[term] != 0:\n",
        "      measure += q[term] * d[term]\n",
        "  return measure\n",
        "\n",
        "def tf_idf_representation(query, document):\n",
        "  '''\n",
        "  Calcula a medida de similaridade entre a consulta e um documento\n",
        "  pela representação TF-IDF do modelo vetorial\n",
        "  '''\n",
        "  terms = query.split()\n",
        "  doc_tokens = get_tokens(document)\n",
        "  q = {}\n",
        "  d = {}\n",
        "  for term in terms:\n",
        "    q[term] = 0\n",
        "    d[term] = 0\n",
        "    if term in vocabulary:\n",
        "      q[term] = terms.count(term)\n",
        "    if term in doc_tokens:\n",
        "      d[term] = doc_tokens.count(term)\n",
        "  measure = 0\n",
        "  for term in terms:\n",
        "    try:\n",
        "      idf = index[term]['idf']\n",
        "      if q[term] != 0 and d[term] != 0:\n",
        "        measure += q[term] * d[term] * idf\n",
        "    except KeyError:\n",
        "      measure += 0\n",
        "  return round(measure, 2)\n",
        "\n",
        "def bm25_representation(query, document, k):\n",
        "  '''\n",
        "    Calcula a medida de similaridade entre a consulta e um documento\n",
        "    pela representação bm25 do modelo vetorial\n",
        "  '''\n",
        "  terms = query.split()\n",
        "  doc_tokens = get_tokens(document)\n",
        "  matched = [term for term in terms if term in doc_tokens]\n",
        "  measure = 0\n",
        "  for match in matched:\n",
        "    cwq = terms.count(match)\n",
        "    cwd = doc_tokens.count(match)\n",
        "    m = total_documents()\n",
        "    dfw = len(index[match].keys()) - 1\n",
        "    measure += cwq * (((k + 1) * cwd) / (cwd  + k)) * np.log((m + 1) / dfw)\n",
        "  return round(measure, 2)"
      ],
      "execution_count": 0,
      "outputs": []
    },
    {
      "cell_type": "code",
      "metadata": {
        "id": "d-1eizPCDexB",
        "colab_type": "code",
        "colab": {}
      },
      "source": [
        "def get_top_10(results):\n",
        "  return sorted(results, key = lambda x: x[1], reverse=True)[:10]\n",
        "\n",
        "\n",
        "def get_top_documents(query, documents):\n",
        "  n = 0\n",
        "  binary = []\n",
        "  tf = []\n",
        "  tf_idf = []\n",
        "  bm25 = []\n",
        "  for document in documents:\n",
        "    binary.append((n,binary_representation(query, document)))\n",
        "    tf.append((n, tf_representation(query, document)))\n",
        "    tf_idf.append((n, tf_idf_representation(query, document)))\n",
        "    bm25.append((n, bm25_representation(query, document, 10)))\n",
        "    n += 1\n",
        "  data = {\n",
        "      'binary': get_top_10(binary),\n",
        "      'tf': get_top_10(tf),\n",
        "      'tf_idf': get_top_10(tf_idf),\n",
        "      'bm25': get_top_10(bm25)\n",
        "  }\n",
        "  return data"
      ],
      "execution_count": 0,
      "outputs": []
    },
    {
      "cell_type": "code",
      "metadata": {
        "id": "VNSXRZ39GUxJ",
        "colab_type": "code",
        "colab": {}
      },
      "source": [
        "query = \"negacionismo histórico\""
      ],
      "execution_count": 0,
      "outputs": []
    },
    {
      "cell_type": "code",
      "metadata": {
        "id": "BZKxB9XzgEYT",
        "colab_type": "code",
        "colab": {}
      },
      "source": [
        "def reciprocal_rank(ranking):\n",
        "  return 1 / ranking\n",
        "\n",
        "def get_ranking(document, results):\n",
        "  rank = 1\n",
        "  for d,_ in results:\n",
        "    if document == d:\n",
        "      return rank\n",
        "  return -1"
      ],
      "execution_count": 0,
      "outputs": []
    },
    {
      "cell_type": "code",
      "metadata": {
        "id": "VOM5-RpSjryX",
        "colab_type": "code",
        "outputId": "bbd16ea3-a87d-40c0-e58f-9d67c26df221",
        "colab": {
          "base_uri": "https://localhost:8080/",
          "height": 359
        }
      },
      "source": [
        "data = pd.DataFrame(get_top_documents(query, news.text))\n",
        "data"
      ],
      "execution_count": 8,
      "outputs": [
        {
          "output_type": "execute_result",
          "data": {
            "text/html": [
              "<div>\n",
              "<style scoped>\n",
              "    .dataframe tbody tr th:only-of-type {\n",
              "        vertical-align: middle;\n",
              "    }\n",
              "\n",
              "    .dataframe tbody tr th {\n",
              "        vertical-align: top;\n",
              "    }\n",
              "\n",
              "    .dataframe thead th {\n",
              "        text-align: right;\n",
              "    }\n",
              "</style>\n",
              "<table border=\"1\" class=\"dataframe\">\n",
              "  <thead>\n",
              "    <tr style=\"text-align: right;\">\n",
              "      <th></th>\n",
              "      <th>binary</th>\n",
              "      <th>tf</th>\n",
              "      <th>tf_idf</th>\n",
              "      <th>bm25</th>\n",
              "    </tr>\n",
              "  </thead>\n",
              "  <tbody>\n",
              "    <tr>\n",
              "      <th>0</th>\n",
              "      <td>(2, 2)</td>\n",
              "      <td>(2, 5)</td>\n",
              "      <td>(2, 19.09)</td>\n",
              "      <td>(2, 16.48)</td>\n",
              "    </tr>\n",
              "    <tr>\n",
              "      <th>1</th>\n",
              "      <td>(9, 1)</td>\n",
              "      <td>(24, 2)</td>\n",
              "      <td>(247, 4.83)</td>\n",
              "      <td>(247, 4.83)</td>\n",
              "    </tr>\n",
              "    <tr>\n",
              "      <th>2</th>\n",
              "      <td>(16, 1)</td>\n",
              "      <td>(40, 2)</td>\n",
              "      <td>(24, 4.6)</td>\n",
              "      <td>(24, 4.22)</td>\n",
              "    </tr>\n",
              "    <tr>\n",
              "      <th>3</th>\n",
              "      <td>(18, 1)</td>\n",
              "      <td>(55, 2)</td>\n",
              "      <td>(40, 4.6)</td>\n",
              "      <td>(40, 4.22)</td>\n",
              "    </tr>\n",
              "    <tr>\n",
              "      <th>4</th>\n",
              "      <td>(21, 1)</td>\n",
              "      <td>(9, 1)</td>\n",
              "      <td>(55, 4.6)</td>\n",
              "      <td>(55, 4.22)</td>\n",
              "    </tr>\n",
              "    <tr>\n",
              "      <th>5</th>\n",
              "      <td>(24, 1)</td>\n",
              "      <td>(16, 1)</td>\n",
              "      <td>(9, 2.3)</td>\n",
              "      <td>(9, 2.3)</td>\n",
              "    </tr>\n",
              "    <tr>\n",
              "      <th>6</th>\n",
              "      <td>(40, 1)</td>\n",
              "      <td>(18, 1)</td>\n",
              "      <td>(16, 2.3)</td>\n",
              "      <td>(16, 2.3)</td>\n",
              "    </tr>\n",
              "    <tr>\n",
              "      <th>7</th>\n",
              "      <td>(55, 1)</td>\n",
              "      <td>(21, 1)</td>\n",
              "      <td>(18, 2.3)</td>\n",
              "      <td>(18, 2.3)</td>\n",
              "    </tr>\n",
              "    <tr>\n",
              "      <th>8</th>\n",
              "      <td>(56, 1)</td>\n",
              "      <td>(56, 1)</td>\n",
              "      <td>(21, 2.3)</td>\n",
              "      <td>(21, 2.3)</td>\n",
              "    </tr>\n",
              "    <tr>\n",
              "      <th>9</th>\n",
              "      <td>(81, 1)</td>\n",
              "      <td>(81, 1)</td>\n",
              "      <td>(56, 2.3)</td>\n",
              "      <td>(56, 2.3)</td>\n",
              "    </tr>\n",
              "  </tbody>\n",
              "</table>\n",
              "</div>"
            ],
            "text/plain": [
              "    binary       tf       tf_idf         bm25\n",
              "0   (2, 2)   (2, 5)   (2, 19.09)   (2, 16.48)\n",
              "1   (9, 1)  (24, 2)  (247, 4.83)  (247, 4.83)\n",
              "2  (16, 1)  (40, 2)    (24, 4.6)   (24, 4.22)\n",
              "3  (18, 1)  (55, 2)    (40, 4.6)   (40, 4.22)\n",
              "4  (21, 1)   (9, 1)    (55, 4.6)   (55, 4.22)\n",
              "5  (24, 1)  (16, 1)     (9, 2.3)     (9, 2.3)\n",
              "6  (40, 1)  (18, 1)    (16, 2.3)    (16, 2.3)\n",
              "7  (55, 1)  (21, 1)    (18, 2.3)    (18, 2.3)\n",
              "8  (56, 1)  (56, 1)    (21, 2.3)    (21, 2.3)\n",
              "9  (81, 1)  (81, 1)    (56, 2.3)    (56, 2.3)"
            ]
          },
          "metadata": {
            "tags": []
          },
          "execution_count": 8
        }
      ]
    },
    {
      "cell_type": "code",
      "metadata": {
        "id": "75mh-WFIgd19",
        "colab_type": "code",
        "outputId": "69147a98-34f0-4f66-d135-a94ac4b536c9",
        "colab": {
          "base_uri": "https://localhost:8080/",
          "height": 35
        }
      },
      "source": [
        "ranking_binary = get_ranking(2, data['binary'])\n",
        "reciprocal_rank(ranking_binary)"
      ],
      "execution_count": 9,
      "outputs": [
        {
          "output_type": "execute_result",
          "data": {
            "text/plain": [
              "1.0"
            ]
          },
          "metadata": {
            "tags": []
          },
          "execution_count": 9
        }
      ]
    },
    {
      "cell_type": "code",
      "metadata": {
        "id": "KuFYGe5ZkOFw",
        "colab_type": "code",
        "outputId": "66c1dbd4-4520-4ac8-e6f3-930b69c1839f",
        "colab": {
          "base_uri": "https://localhost:8080/",
          "height": 35
        }
      },
      "source": [
        "ranking_tf = get_ranking(2, data['tf'])\n",
        "reciprocal_rank(ranking_tf)"
      ],
      "execution_count": 10,
      "outputs": [
        {
          "output_type": "execute_result",
          "data": {
            "text/plain": [
              "1.0"
            ]
          },
          "metadata": {
            "tags": []
          },
          "execution_count": 10
        }
      ]
    },
    {
      "cell_type": "code",
      "metadata": {
        "id": "GxezbatpkWKH",
        "colab_type": "code",
        "outputId": "a3c5c4b5-f2ad-4835-ad79-a2807a3e0f88",
        "colab": {
          "base_uri": "https://localhost:8080/",
          "height": 35
        }
      },
      "source": [
        "ranking_tf_idf = get_ranking(2, data['tf_idf'])\n",
        "reciprocal_rank(ranking_tf_idf)"
      ],
      "execution_count": 11,
      "outputs": [
        {
          "output_type": "execute_result",
          "data": {
            "text/plain": [
              "1.0"
            ]
          },
          "metadata": {
            "tags": []
          },
          "execution_count": 11
        }
      ]
    },
    {
      "cell_type": "code",
      "metadata": {
        "id": "NB5HER_WkxbM",
        "colab_type": "code",
        "outputId": "90fe31a7-69f4-490a-d1f4-15e44e6843c1",
        "colab": {
          "base_uri": "https://localhost:8080/",
          "height": 35
        }
      },
      "source": [
        "ranking_bm25 = get_ranking(2, data['bm25'])\n",
        "reciprocal_rank(ranking_bm25)"
      ],
      "execution_count": 12,
      "outputs": [
        {
          "output_type": "execute_result",
          "data": {
            "text/plain": [
              "1.0"
            ]
          },
          "metadata": {
            "tags": []
          },
          "execution_count": 12
        }
      ]
    },
    {
      "cell_type": "markdown",
      "metadata": {
        "id": "nymJvZyQlVsh",
        "colab_type": "text"
      },
      "source": [
        "Pra todas as abordagens, o valor do reciprocal rank sempre foi 1, já que o documento escolhido, cujo índice é 2, sempre foi o primeiro colocado nos resultados da consulta."
      ]
    },
    {
      "cell_type": "code",
      "metadata": {
        "id": "1j1tyXzkm7Pw",
        "colab_type": "code",
        "outputId": "be7f20e9-5d46-48e2-d387-a2b6a391301d",
        "colab": {
          "base_uri": "https://localhost:8080/",
          "height": 719
        }
      },
      "source": [
        "GABARITO_URL = 'https://raw.githubusercontent.com/valterlucena/recuperacao-informacao/master/evaluation/results_final.json'\n",
        "gabarito = pd.read_json(GABARITO_URL)\n",
        "pd.options.display.max_colwidth = 160\n",
        "gabarito"
      ],
      "execution_count": 13,
      "outputs": [
        {
          "output_type": "execute_result",
          "data": {
            "text/html": [
              "<div>\n",
              "<style scoped>\n",
              "    .dataframe tbody tr th:only-of-type {\n",
              "        vertical-align: middle;\n",
              "    }\n",
              "\n",
              "    .dataframe tbody tr th {\n",
              "        vertical-align: top;\n",
              "    }\n",
              "\n",
              "    .dataframe thead th {\n",
              "        text-align: right;\n",
              "    }\n",
              "</style>\n",
              "<table border=\"1\" class=\"dataframe\">\n",
              "  <thead>\n",
              "    <tr style=\"text-align: right;\">\n",
              "      <th></th>\n",
              "      <th>query</th>\n",
              "      <th>docs</th>\n",
              "    </tr>\n",
              "  </thead>\n",
              "  <tbody>\n",
              "    <tr>\n",
              "      <th>0</th>\n",
              "      <td>território palestino</td>\n",
              "      <td>[{'URL': 'https://brasil.elpais.com/brasil/2019/03/31/politica/1554060705_325198.html', 'level': 9}, {'URL': 'https://brasil.elpais.com/brasil/2019/03/28/al...</td>\n",
              "    </tr>\n",
              "    <tr>\n",
              "      <th>1</th>\n",
              "      <td>recessão mundial</td>\n",
              "      <td>[{'URL': 'https://brasil.elpais.com/brasil/2019/04/02/internacional/1554203421_336330.html', 'level': 3}, {'URL': 'https://brasil.elpais.com/brasil/2019/04/...</td>\n",
              "    </tr>\n",
              "    <tr>\n",
              "      <th>2</th>\n",
              "      <td>ditadura militar</td>\n",
              "      <td>[{'URL': 'https://brasil.elpais.com/brasil/2019/03/29/politica/1553877780_122371.html', 'level': 8}, {'URL': 'https://brasil.elpais.com/brasil/2019/04/01/de...</td>\n",
              "    </tr>\n",
              "    <tr>\n",
              "      <th>3</th>\n",
              "      <td>muro das lamentações</td>\n",
              "      <td>[{'URL': 'https://brasil.elpais.com/brasil/2019/03/31/politica/1554060705_325198.html', 'level': 7}, {'URL': 'https://brasil.elpais.com/brasil/2019/04/01/in...</td>\n",
              "    </tr>\n",
              "    <tr>\n",
              "      <th>4</th>\n",
              "      <td>brasil e argentina</td>\n",
              "      <td>[{'URL': 'https://brasil.elpais.com/brasil/2019/03/30/opinion/1553971198_297214.html', 'level': 9}, {'URL': 'https://brasil.elpais.com/brasil/2019/03/29/pol...</td>\n",
              "    </tr>\n",
              "    <tr>\n",
              "      <th>5</th>\n",
              "      <td>golpe militar</td>\n",
              "      <td>[{'URL': 'https://brasil.elpais.com/brasil/2019/03/26/politica/1553638410_317117.html', 'level': 6}, {'URL': 'https://brasil.elpais.com/brasil/2019/04/01/de...</td>\n",
              "    </tr>\n",
              "    <tr>\n",
              "      <th>6</th>\n",
              "      <td>governo bolsonaro</td>\n",
              "      <td>[{'URL': 'https://brasil.elpais.com/brasil/2019/03/26/politica/1553557825_337887.html', 'level': 6}, {'URL': 'https://brasil.elpais.com/brasil/2019/04/01/po...</td>\n",
              "    </tr>\n",
              "    <tr>\n",
              "      <th>7</th>\n",
              "      <td>ministro da economia</td>\n",
              "      <td>[{'URL': 'https://brasil.elpais.com/brasil/2019/01/22/economia/1548182020_953667.html', 'level': 8}, {'URL': 'https://brasil.elpais.com/brasil/2019/03/27/po...</td>\n",
              "    </tr>\n",
              "    <tr>\n",
              "      <th>8</th>\n",
              "      <td>prisão de Temer</td>\n",
              "      <td>[{'URL': 'https://brasil.elpais.com/brasil/2019/03/22/opinion/1553273072_697119.html', 'level': 5}, {'URL': 'https://brasil.elpais.com/brasil/2019/03/22/pol...</td>\n",
              "    </tr>\n",
              "    <tr>\n",
              "      <th>9</th>\n",
              "      <td>Congresso Nacional</td>\n",
              "      <td>[{'URL': 'https://brasil.elpais.com/brasil/2019/03/27/politica/1553642262_663695.html', 'level': 7}, {'URL': 'https://brasil.elpais.com/brasil/2019/03/28/po...</td>\n",
              "    </tr>\n",
              "  </tbody>\n",
              "</table>\n",
              "</div>"
            ],
            "text/plain": [
              "                  query                                                                                                                                                             docs\n",
              "0  território palestino  [{'URL': 'https://brasil.elpais.com/brasil/2019/03/31/politica/1554060705_325198.html', 'level': 9}, {'URL': 'https://brasil.elpais.com/brasil/2019/03/28/al...\n",
              "1      recessão mundial  [{'URL': 'https://brasil.elpais.com/brasil/2019/04/02/internacional/1554203421_336330.html', 'level': 3}, {'URL': 'https://brasil.elpais.com/brasil/2019/04/...\n",
              "2      ditadura militar  [{'URL': 'https://brasil.elpais.com/brasil/2019/03/29/politica/1553877780_122371.html', 'level': 8}, {'URL': 'https://brasil.elpais.com/brasil/2019/04/01/de...\n",
              "3  muro das lamentações  [{'URL': 'https://brasil.elpais.com/brasil/2019/03/31/politica/1554060705_325198.html', 'level': 7}, {'URL': 'https://brasil.elpais.com/brasil/2019/04/01/in...\n",
              "4    brasil e argentina  [{'URL': 'https://brasil.elpais.com/brasil/2019/03/30/opinion/1553971198_297214.html', 'level': 9}, {'URL': 'https://brasil.elpais.com/brasil/2019/03/29/pol...\n",
              "5         golpe militar  [{'URL': 'https://brasil.elpais.com/brasil/2019/03/26/politica/1553638410_317117.html', 'level': 6}, {'URL': 'https://brasil.elpais.com/brasil/2019/04/01/de...\n",
              "6     governo bolsonaro  [{'URL': 'https://brasil.elpais.com/brasil/2019/03/26/politica/1553557825_337887.html', 'level': 6}, {'URL': 'https://brasil.elpais.com/brasil/2019/04/01/po...\n",
              "7  ministro da economia  [{'URL': 'https://brasil.elpais.com/brasil/2019/01/22/economia/1548182020_953667.html', 'level': 8}, {'URL': 'https://brasil.elpais.com/brasil/2019/03/27/po...\n",
              "8       prisão de Temer  [{'URL': 'https://brasil.elpais.com/brasil/2019/03/22/opinion/1553273072_697119.html', 'level': 5}, {'URL': 'https://brasil.elpais.com/brasil/2019/03/22/pol...\n",
              "9    Congresso Nacional  [{'URL': 'https://brasil.elpais.com/brasil/2019/03/27/politica/1553642262_663695.html', 'level': 7}, {'URL': 'https://brasil.elpais.com/brasil/2019/03/28/po..."
            ]
          },
          "metadata": {
            "tags": []
          },
          "execution_count": 13
        }
      ]
    },
    {
      "cell_type": "code",
      "metadata": {
        "id": "t8XnrL1eolrg",
        "colab_type": "code",
        "colab": {}
      },
      "source": [
        "d = {}\n",
        "for i in range(len(news)):\n",
        "  d[i] = news.iloc[i]['url']"
      ],
      "execution_count": 0,
      "outputs": []
    },
    {
      "cell_type": "code",
      "metadata": {
        "id": "V-OCAE3Wtao-",
        "colab_type": "code",
        "colab": {}
      },
      "source": [
        "def is_relevant(document, gabarito):\n",
        "  document_url = d[document]\n",
        "  relevant_url_docs = get_url_relevant_docs(gabarito)\n",
        "  return document_url in relevant_url_docs\n",
        "\n",
        "def get_url_relevant_docs(gabarito):\n",
        "  return [doc['URL'] for doc_list in gabarito['docs'] for doc in doc_list]\n",
        "\n",
        "def get_relevant_docs(gabarito):\n",
        "  relevant = []\n",
        "  for i, url in d.items():\n",
        "    if is_relevant(i, gabarito):\n",
        "      relevant.append(i)\n",
        "  return relevant\n",
        "\n",
        "def intersection(a, b):\n",
        "  return [el for el in a if el in b]\n",
        "\n",
        "def get_doc_indexes(results):\n",
        "  return [doc for doc,_ in results]\n",
        "\n",
        "def ap(query):\n",
        "  results = get_top_documents(query, news.text)\n",
        "  binary = [d for d,_ in results['binary']]\n",
        "  tf = [d for d,_ in results['tf']]\n",
        "  tf_idf = [d for d,_ in results['tf_idf']]\n",
        "  bm25 = [d for d,_ in results['bm25']]\n",
        "\n",
        "  relevant_docs = get_relevant_docs(gabarito)\n",
        "\n",
        "  ap_binary = len(intersection(binary, relevant_docs)) / len(binary)\n",
        "  ap_tf = len(intersection(tf, relevant_docs)) / len(tf)\n",
        "  ap_tf_idf = len(intersection(tf_idf, relevant_docs)) / len(tf_idf)\n",
        "  ap_bm25 = len(intersection(bm25, relevant_docs)) / len(bm25)\n",
        "  return ap_binary, ap_tf, ap_tf_idf, ap_bm25\n",
        "\n",
        "def mean_ap(queries):  \n",
        "  def pre_process_query(query):\n",
        "    query_tokens = get_tokens(query)\n",
        "    return ' '.join(query_tokens)\n",
        "  \n",
        "  binary = []\n",
        "  tf = []\n",
        "  tf_idf = []\n",
        "  bm25 = []\n",
        "  for query in queries:\n",
        "    query = pre_process_query(query)\n",
        "    ap_binary, ap_tf, ap_tf_idf, ap_bm25 = ap(query)\n",
        "    binary.append(ap_binary)\n",
        "    tf.append(ap_tf)\n",
        "    tf_idf.append(ap_tf_idf)\n",
        "    bm25.append(ap_bm25)\n",
        "  \n",
        "  map_binary = round(np.mean(binary),2)\n",
        "  map_tf = round(np.mean(tf), 2)\n",
        "  map_tf_idf = round(np.mean(tf_idf), 2)\n",
        "  map_bm25 = round(np.mean(bm25), 2)\n",
        "  \n",
        "  return map_binary, map_tf, map_tf_idf, map_bm25"
      ],
      "execution_count": 0,
      "outputs": []
    },
    {
      "cell_type": "code",
      "metadata": {
        "id": "8k7X9Sa6A_OO",
        "colab_type": "code",
        "colab": {}
      },
      "source": [
        "map_binary, map_tf, map_tf_idf, map_bm25 = mean_ap(gabarito['query'])"
      ],
      "execution_count": 0,
      "outputs": []
    },
    {
      "cell_type": "code",
      "metadata": {
        "id": "tkZmhQD3BAui",
        "colab_type": "code",
        "colab": {
          "base_uri": "https://localhost:8080/",
          "height": 80
        },
        "outputId": "89ef92ee-e61d-47e2-ea8d-cc4210f5698e"
      },
      "source": [
        "data = {\n",
        "    'Binary': [map_binary],\n",
        "    'TF': [map_tf],\n",
        "    'TF-IDF': [map_tf_idf],\n",
        "    'BM25': [map_bm25]\n",
        "}\n",
        "\n",
        "df = pd.DataFrame(data)\n",
        "df"
      ],
      "execution_count": 41,
      "outputs": [
        {
          "output_type": "execute_result",
          "data": {
            "text/html": [
              "<div>\n",
              "<style scoped>\n",
              "    .dataframe tbody tr th:only-of-type {\n",
              "        vertical-align: middle;\n",
              "    }\n",
              "\n",
              "    .dataframe tbody tr th {\n",
              "        vertical-align: top;\n",
              "    }\n",
              "\n",
              "    .dataframe thead th {\n",
              "        text-align: right;\n",
              "    }\n",
              "</style>\n",
              "<table border=\"1\" class=\"dataframe\">\n",
              "  <thead>\n",
              "    <tr style=\"text-align: right;\">\n",
              "      <th></th>\n",
              "      <th>Binary</th>\n",
              "      <th>TF</th>\n",
              "      <th>TF-IDF</th>\n",
              "      <th>BM25</th>\n",
              "    </tr>\n",
              "  </thead>\n",
              "  <tbody>\n",
              "    <tr>\n",
              "      <th>0</th>\n",
              "      <td>0.19</td>\n",
              "      <td>0.2</td>\n",
              "      <td>0.21</td>\n",
              "      <td>0.22</td>\n",
              "    </tr>\n",
              "  </tbody>\n",
              "</table>\n",
              "</div>"
            ],
            "text/plain": [
              "   Binary   TF  TF-IDF  BM25\n",
              "0    0.19  0.2    0.21  0.22"
            ]
          },
          "metadata": {
            "tags": []
          },
          "execution_count": 41
        }
      ]
    }
  ]
}