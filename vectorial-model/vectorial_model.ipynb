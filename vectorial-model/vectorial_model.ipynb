{
  "nbformat": 4,
  "nbformat_minor": 0,
  "metadata": {
    "colab": {
      "name": "vectorial-model.ipynb",
      "version": "0.3.2",
      "provenance": [],
      "include_colab_link": true
    },
    "kernelspec": {
      "name": "python3",
      "display_name": "Python 3"
    }
  },
  "cells": [
    {
      "cell_type": "markdown",
      "metadata": {
        "id": "view-in-github",
        "colab_type": "text"
      },
      "source": [
        "<a href=\"https://colab.research.google.com/github/valterlucena/recuperacao-informacao/blob/master/vectorial-model/vectorial_model.ipynb\" target=\"_parent\"><img src=\"https://colab.research.google.com/assets/colab-badge.svg\" alt=\"Open In Colab\"/></a>"
      ]
    },
    {
      "cell_type": "code",
      "metadata": {
        "id": "gbeYUlAWDhFs",
        "colab_type": "code",
        "cellView": "both",
        "outputId": "e7b9a01a-519a-4eca-c45a-0983202f70b8",
        "colab": {
          "base_uri": "https://localhost:8080/",
          "height": 102
        }
      },
      "source": [
        "import pandas as pd\n",
        "import numpy as np\n",
        "import re\n",
        "import nltk\n",
        "from nltk.tokenize import RegexpTokenizer\n",
        "from nltk.corpus import stopwords\n",
        "nltk.download('punkt')\n",
        "nltk.download('stopwords')"
      ],
      "execution_count": 0,
      "outputs": [
        {
          "output_type": "stream",
          "text": [
            "[nltk_data] Downloading package punkt to /root/nltk_data...\n",
            "[nltk_data]   Package punkt is already up-to-date!\n",
            "[nltk_data] Downloading package stopwords to /root/nltk_data...\n",
            "[nltk_data]   Package stopwords is already up-to-date!\n"
          ],
          "name": "stdout"
        },
        {
          "output_type": "execute_result",
          "data": {
            "text/plain": [
              "True"
            ]
          },
          "metadata": {
            "tags": []
          },
          "execution_count": 5
        }
      ]
    },
    {
      "cell_type": "code",
      "metadata": {
        "id": "mfIPdKsEEvDy",
        "colab_type": "code",
        "colab": {}
      },
      "source": [
        "DATA_URL = '/content/results.csv'\n",
        "news = pd.read_csv(DATA_URL)\n",
        "news"
      ],
      "execution_count": 0,
      "outputs": []
    },
    {
      "cell_type": "code",
      "metadata": {
        "id": "lRh4J-1FHMkI",
        "colab_type": "code",
        "colab": {
          "base_uri": "https://localhost:8080/",
          "height": 34
        },
        "outputId": "f0fdbdc2-ba30-44c1-8ca7-d1c76ade44cc"
      },
      "source": [
        "def total_documents():\n",
        "  return len(news)"
      ],
      "execution_count": 25,
      "outputs": [
        {
          "output_type": "execute_result",
          "data": {
            "text/plain": [
              "249"
            ]
          },
          "metadata": {
            "tags": []
          },
          "execution_count": 25
        }
      ]
    },
    {
      "cell_type": "code",
      "metadata": {
        "id": "1YKogQjdGFfX",
        "colab_type": "code",
        "colab": {}
      },
      "source": [
        "toker = RegexpTokenizer('''\\w+[-']*\\w*''')\n",
        "stop_words = stopwords.words('portuguese')\n",
        "\n",
        "def isValid(token):\n",
        "  return token not in stop_words and not bool(re.search(r'\\d', token)) and len(token) > 2\n",
        "\n",
        "def build_index(documents):\n",
        "  index = {}\n",
        "  n = 0\n",
        "  for document in documents:\n",
        "    n += 1\n",
        "    tokens = [token for token in toker.tokenize(document.lower()) if isValid(token)]\n",
        "    for token in tokens:\n",
        "      occurrence = tokens.count(token)\n",
        "      idf = np.log(total_documents() + 1) / occurrence\n",
        "      if token not in index:\n",
        "        index[token] = {}\n",
        "      if n not in index[token]:\n",
        "        index[token][n] = (occurrence, round(idf, 5))\n",
        "  return index\n",
        "\n",
        "index = build_index(news.text)"
      ],
      "execution_count": 0,
      "outputs": []
    },
    {
      "cell_type": "code",
      "metadata": {
        "id": "50z9frziGStK",
        "colab_type": "code",
        "colab": {}
      },
      "source": [
        "def build_binary_representation(index):\n",
        "  binary_representation = {}\n",
        "  for posting, inverted_list in index.items():\n",
        "    binary_vector = [0] * (total_documents() + 1)\n",
        "    for document in inverted_list.keys():\n",
        "      binary_vector[document] = 1\n",
        "    binary_representation[posting] = binary_vector\n",
        "  return binary_representation\n",
        "\n",
        "def build_tf_representation(index):\n",
        "  tf_representation = {}\n",
        "  for posting, inverted_list in index.items():\n",
        "    tf_vector = [0] * (total_documents() + 1)\n",
        "    for document, pair in inverted_list.items():\n",
        "      tf_vector[document] = pair[0] \n",
        "    tf_representation[posting] = tf_vector\n",
        "  return tf_representation\n",
        "\n",
        "def build_tf_idf_representation(index):\n",
        "  tf_idf_representation = {}\n",
        "  for posting, inverted_list in index.items():\n",
        "    tf_idf_vector = [0] * (total_documents() + 1)\n",
        "    for document, pair in inverted_list.items():\n",
        "      tf_idf_vector[document] = pair[0] * pair[1]\n",
        "    tf_idf_representation[posting] = tf_idf_vector\n",
        "  return tf_idf_representation\n",
        "\n",
        "def build_bm25_representation(index):\n",
        "  bm25_representation = {}\n",
        "  for posting, inverted_list in index.items():\n",
        "    bm25_vector = [0] * (total_documents() + 1)\n",
        "    for document, pair in inverted_list.items():\n",
        "      x = pair[0] * pair[1]\n",
        "      bm25_vector[document] = ((document + 1) * x) / (x + document)\n",
        "      bm25_representation[posting] = bm25_vector\n",
        "  return bm25_representation"
      ],
      "execution_count": 0,
      "outputs": []
    },
    {
      "cell_type": "code",
      "metadata": {
        "id": "iFMG9PUIUccD",
        "colab_type": "code",
        "colab": {}
      },
      "source": [
        "build_binary_representation(index)"
      ],
      "execution_count": 0,
      "outputs": []
    }
  ]
}