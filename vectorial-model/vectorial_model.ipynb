{
  "nbformat": 4,
  "nbformat_minor": 0,
  "metadata": {
    "colab": {
      "name": "vectorial-model.ipynb",
      "version": "0.3.2",
      "provenance": [],
      "collapsed_sections": [],
      "include_colab_link": true
    },
    "kernelspec": {
      "name": "python3",
      "display_name": "Python 3"
    }
  },
  "cells": [
    {
      "cell_type": "markdown",
      "metadata": {
        "id": "view-in-github",
        "colab_type": "text"
      },
      "source": [
        "<a href=\"https://colab.research.google.com/github/valterlucena/recuperacao-informacao/blob/master/vectorial-model/vectorial_model.ipynb\" target=\"_parent\"><img src=\"https://colab.research.google.com/assets/colab-badge.svg\" alt=\"Open In Colab\"/></a>"
      ]
    },
    {
      "cell_type": "code",
      "metadata": {
        "id": "-mDzxCFq-pGZ",
        "colab_type": "code",
        "outputId": "9dcc69c6-60c7-4526-f894-ebe9b9a900c0",
        "colab": {
          "base_uri": "https://localhost:8080/",
          "height": 102
        }
      },
      "source": [
        "import pandas as pd\n",
        "import numpy as np\n",
        "import re\n",
        "import nltk\n",
        "from nltk.tokenize import RegexpTokenizer\n",
        "from nltk.corpus import stopwords\n",
        "nltk.download('punkt')\n",
        "nltk.download('stopwords')"
      ],
      "execution_count": 1,
      "outputs": [
        {
          "output_type": "stream",
          "text": [
            "[nltk_data] Downloading package punkt to /root/nltk_data...\n",
            "[nltk_data]   Unzipping tokenizers/punkt.zip.\n",
            "[nltk_data] Downloading package stopwords to /root/nltk_data...\n",
            "[nltk_data]   Unzipping corpora/stopwords.zip.\n"
          ],
          "name": "stdout"
        },
        {
          "output_type": "execute_result",
          "data": {
            "text/plain": [
              "True"
            ]
          },
          "metadata": {
            "tags": []
          },
          "execution_count": 1
        }
      ]
    },
    {
      "cell_type": "markdown",
      "metadata": {
        "id": "JbTlFLFLcv4R",
        "colab_type": "text"
      },
      "source": [
        "# Introdução\n",
        "\n",
        "Nesta atividade iremos exercitar algumas instanciações do modelo vetorial.\n",
        "\n",
        "Primeiramente, vamos importar nossos dados."
      ]
    },
    {
      "cell_type": "code",
      "metadata": {
        "id": "ekK3acNE-ykj",
        "colab_type": "code",
        "colab": {}
      },
      "source": [
        "DATA_URL = 'https://raw.githubusercontent.com/Benardi/ri_lab_01/master/output/results.csv'\n",
        "news = pd.read_csv(DATA_URL)"
      ],
      "execution_count": 0,
      "outputs": []
    },
    {
      "cell_type": "markdown",
      "metadata": {
        "id": "OA5jsFStdG5w",
        "colab_type": "text"
      },
      "source": [
        "Agora iremos criar nosso índice invertido, para ser utilizado mais adiante. Utilizaremos a função tokenize da biblioteca NLTK associada à uma expressão regular, que considerará como token apenas as sequências de caracteres não-especiais (com exceção do hífen) ou numéricos que não formem stopwords e quem possuam mais que 2 caracteres.\n",
        "Além disso, refinaremos nosso índice para que o mesmo contenha o *inverse document frequency* (IDF) de cada *posting*."
      ]
    },
    {
      "cell_type": "code",
      "metadata": {
        "id": "bv7r2tNn-2SG",
        "colab_type": "code",
        "colab": {}
      },
      "source": [
        "def isValid(token):\n",
        "  return not bool(re.search(r'\\d', token)) and len(token) > 2\n",
        "\n",
        "def total_documents():\n",
        "  return len(news)\n",
        "\n",
        "def get_tokens(document):\n",
        "  toker = RegexpTokenizer('''\\w+[-']*\\w*''')\n",
        "  stop_words = stopwords.words('portuguese')\n",
        "  return [token for token in toker.tokenize(document.lower()) if isValid(token) and token not in stop_words]\n",
        "\n",
        "def build_index(documents):\n",
        "  index = {}\n",
        "  n = 0\n",
        "  for document in documents:\n",
        "    n += 1\n",
        "    tokens = get_tokens(document)\n",
        "    for token in tokens:\n",
        "      occurrence = tokens.count(token)\n",
        "      if token not in index:\n",
        "        index[token] = {}\n",
        "      if n not in index[token]:\n",
        "        index[token][n] = occurrence\n",
        "  return index\n",
        "\n",
        "index = build_index(news.text)\n",
        "\n",
        "for posting in index:\n",
        "  k = len(index[posting])\n",
        "  idf = round(np.log((total_documents() + 1) / k), 2)\n",
        "  index[posting]['idf'] = idf"
      ],
      "execution_count": 0,
      "outputs": []
    },
    {
      "cell_type": "markdown",
      "metadata": {
        "id": "KcCJeUY0dc2r",
        "colab_type": "text"
      },
      "source": [
        "Um vocabulário dos termos presentes nos documentos nos auxiliará em algumas das instanciações que faremos."
      ]
    },
    {
      "cell_type": "code",
      "metadata": {
        "id": "NuegJp2Zcpk5",
        "colab_type": "code",
        "colab": {}
      },
      "source": [
        "vocabulary = index.keys()"
      ],
      "execution_count": 0,
      "outputs": []
    },
    {
      "cell_type": "markdown",
      "metadata": {
        "id": "KfsAbLcldu4J",
        "colab_type": "text"
      },
      "source": [
        "# Instanciações\n",
        "\n"
      ]
    },
    {
      "cell_type": "code",
      "metadata": {
        "id": "zeUUm63TAdOm",
        "colab_type": "code",
        "colab": {}
      },
      "source": [
        "'''\n",
        "  Calcula a medida de similaridade entre a consulta e um documento\n",
        "  pela representação binária do modelo vetorial\n",
        "'''\n",
        "def binary_representation(query, document):\n",
        "  terms = query.split()\n",
        "  doc_tokens = get_tokens(document)\n",
        "  q = {}\n",
        "  d = {}\n",
        "  for term in terms:\n",
        "    q[term] = 0\n",
        "    d[term] = 0\n",
        "    if term in vocabulary:\n",
        "      q[term] = 1\n",
        "    if term in doc_tokens:\n",
        "      d[term] = 1  \n",
        "  measure = 0\n",
        "  for term in terms:\n",
        "    if q[term] != 0 and d[term] != 0:\n",
        "      measure += q[term] * d[term]  \n",
        "  return measure\n",
        "  \n",
        "'''\n",
        "  Calcula a medida de similaridade entre a consulta e um documento\n",
        "  pela representação TF do modelo vetorial\n",
        "'''\n",
        "def tf_representation(query, document):\n",
        "  terms = query.split()\n",
        "  doc_tokens = get_tokens(document)\n",
        "  q = {}\n",
        "  d = {}\n",
        "  for term in terms:\n",
        "    q[term] = 0\n",
        "    d[term] = 0\n",
        "    if term in vocabulary:\n",
        "      q[term] = terms.count(term)\n",
        "    if term in doc_tokens:\n",
        "      d[term] = doc_tokens.count(term)\n",
        "  measure = 0\n",
        "  for term in terms:\n",
        "    if q[term] != 0 and d[term] != 0:\n",
        "      measure += q[term] * d[term]\n",
        "  return measure\n",
        "\n",
        "'''\n",
        "  Calcula a medida de similaridade entre a consulta e um documento\n",
        "  pela representação TF-IDF do modelo vetorial\n",
        "'''\n",
        "def tf_idf_representation(query, document):\n",
        "  terms = query.split()\n",
        "  doc_tokens = get_tokens(document)\n",
        "  q = {}\n",
        "  d = {}\n",
        "  for term in terms:\n",
        "    q[term] = 0\n",
        "    d[term] = 0\n",
        "    if term in vocabulary:\n",
        "      q[term] = terms.count(term)\n",
        "    if term in doc_tokens:\n",
        "      d[term] = doc_tokens.count(term)\n",
        "  measure = 0\n",
        "  for term in terms:\n",
        "    idf = index[term]['idf']\n",
        "    if q[term] != 0 and d[term] != 0:\n",
        "      measure += q[term] * d[term] * idf\n",
        "  return round(measure, 2)\n",
        "\n",
        "'''\n",
        "  Calcula a medida de similaridade entre a consulta e um documento\n",
        "  pela representação bm25 do modelo vetorial\n",
        "'''\n",
        "def bm25_representation(query, document, k):\n",
        "  terms = query.split()\n",
        "  doc_tokens = get_tokens(document)\n",
        "  matched = [term for term in terms if term in doc_tokens]\n",
        "  measure = 0\n",
        "  for match in matched:\n",
        "    cwq = terms.count(match)\n",
        "    cwd = doc_tokens.count(match)\n",
        "    m = total_documents()\n",
        "    dfw = len(index[match].keys()) - 1\n",
        "    measure += cwq * (((k + 1) * cwd) / (cwd  + k)) * np.log((m + 1) / dfw)\n",
        "  return round(measure, 2)"
      ],
      "execution_count": 0,
      "outputs": []
    },
    {
      "cell_type": "markdown",
      "metadata": {
        "id": "bF7XKxZChlpr",
        "colab_type": "text"
      },
      "source": [
        "# Consultas\n",
        "\n",
        "As consultas realizadas serão:\n",
        "\n",
        "* Jair Bolsonaro\n",
        "* Reforma previdência\n",
        "* Forças armadas\n",
        "\n",
        "Para a consulta utilizando o BM25, utilizaremos k = 10."
      ]
    },
    {
      "cell_type": "code",
      "metadata": {
        "id": "VsYFFCg8Zpao",
        "colab_type": "code",
        "colab": {}
      },
      "source": [
        "queries = ['jair bolsonaro', 'reforma previdência', 'forças armadas']\n",
        "\n",
        "def get_top_5(results):\n",
        "  return sorted(results, key = lambda x: x[1], reverse=True)[:5]"
      ],
      "execution_count": 0,
      "outputs": []
    },
    {
      "cell_type": "code",
      "metadata": {
        "id": "kUlhWT_CJTkV",
        "colab_type": "code",
        "colab": {}
      },
      "source": [
        "def get_top_documents(query, documents):\n",
        "  n = 0\n",
        "  binary = []\n",
        "  tf = []\n",
        "  tf_idf = []\n",
        "  bm25 = []\n",
        "  for document in documents:\n",
        "    binary.append((n,binary_representation(query, document)))\n",
        "    tf.append((n, tf_representation(query, document)))\n",
        "    tf_idf.append((n, tf_idf_representation(query, document)))\n",
        "    bm25.append((n, bm25_representation(query, document, 10)))\n",
        "    n += 1\n",
        "  data = {\n",
        "      'binary': get_top_5(binary),\n",
        "      'tf': get_top_5(tf),\n",
        "      'tf_idf': get_top_5(tf_idf),\n",
        "      'bm25': get_top_5(bm25)\n",
        "  }\n",
        "  return data"
      ],
      "execution_count": 0,
      "outputs": []
    },
    {
      "cell_type": "code",
      "metadata": {
        "id": "JcSCswKEUAC6",
        "colab_type": "code",
        "outputId": "17a05539-dd93-422f-84c3-06099bf60764",
        "colab": {
          "base_uri": "https://localhost:8080/",
          "height": 204
        }
      },
      "source": [
        "top_5_q1 = get_top_documents('jair bolsonaro', news.text)\n",
        "pd.DataFrame(top_5_q1)"
      ],
      "execution_count": 8,
      "outputs": [
        {
          "output_type": "execute_result",
          "data": {
            "text/html": [
              "<div>\n",
              "<style scoped>\n",
              "    .dataframe tbody tr th:only-of-type {\n",
              "        vertical-align: middle;\n",
              "    }\n",
              "\n",
              "    .dataframe tbody tr th {\n",
              "        vertical-align: top;\n",
              "    }\n",
              "\n",
              "    .dataframe thead th {\n",
              "        text-align: right;\n",
              "    }\n",
              "</style>\n",
              "<table border=\"1\" class=\"dataframe\">\n",
              "  <thead>\n",
              "    <tr style=\"text-align: right;\">\n",
              "      <th></th>\n",
              "      <th>binary</th>\n",
              "      <th>tf</th>\n",
              "      <th>tf_idf</th>\n",
              "      <th>bm25</th>\n",
              "    </tr>\n",
              "  </thead>\n",
              "  <tbody>\n",
              "    <tr>\n",
              "      <th>0</th>\n",
              "      <td>(0, 2)</td>\n",
              "      <td>(150, 52)</td>\n",
              "      <td>(206, 79.74)</td>\n",
              "      <td>(206, 27.29)</td>\n",
              "    </tr>\n",
              "    <tr>\n",
              "      <th>1</th>\n",
              "      <td>(1, 2)</td>\n",
              "      <td>(206, 48)</td>\n",
              "      <td>(150, 76.2)</td>\n",
              "      <td>(150, 22.53)</td>\n",
              "    </tr>\n",
              "    <tr>\n",
              "      <th>2</th>\n",
              "      <td>(24, 2)</td>\n",
              "      <td>(165, 39)</td>\n",
              "      <td>(165, 54.0)</td>\n",
              "      <td>(165, 16.13)</td>\n",
              "    </tr>\n",
              "    <tr>\n",
              "      <th>3</th>\n",
              "      <td>(85, 2)</td>\n",
              "      <td>(18, 26)</td>\n",
              "      <td>(18, 34.32)</td>\n",
              "      <td>(18, 10.46)</td>\n",
              "    </tr>\n",
              "    <tr>\n",
              "      <th>4</th>\n",
              "      <td>(125, 2)</td>\n",
              "      <td>(41, 12)</td>\n",
              "      <td>(215, 17.1)</td>\n",
              "      <td>(215, 10.16)</td>\n",
              "    </tr>\n",
              "  </tbody>\n",
              "</table>\n",
              "</div>"
            ],
            "text/plain": [
              "     binary         tf        tf_idf          bm25\n",
              "0    (0, 2)  (150, 52)  (206, 79.74)  (206, 27.29)\n",
              "1    (1, 2)  (206, 48)   (150, 76.2)  (150, 22.53)\n",
              "2   (24, 2)  (165, 39)   (165, 54.0)  (165, 16.13)\n",
              "3   (85, 2)   (18, 26)   (18, 34.32)   (18, 10.46)\n",
              "4  (125, 2)   (41, 12)   (215, 17.1)  (215, 10.16)"
            ]
          },
          "metadata": {
            "tags": []
          },
          "execution_count": 8
        }
      ]
    },
    {
      "cell_type": "code",
      "metadata": {
        "id": "lmo0K9CHU-eR",
        "colab_type": "code",
        "outputId": "49a5d5f5-02dc-4240-86e4-92c249065adf",
        "colab": {
          "base_uri": "https://localhost:8080/",
          "height": 204
        }
      },
      "source": [
        "top_5_q2 = get_top_documents('reforma previdência', news.text)\n",
        "pd.DataFrame(top_5_q2)"
      ],
      "execution_count": 9,
      "outputs": [
        {
          "output_type": "execute_result",
          "data": {
            "text/html": [
              "<div>\n",
              "<style scoped>\n",
              "    .dataframe tbody tr th:only-of-type {\n",
              "        vertical-align: middle;\n",
              "    }\n",
              "\n",
              "    .dataframe tbody tr th {\n",
              "        vertical-align: top;\n",
              "    }\n",
              "\n",
              "    .dataframe thead th {\n",
              "        text-align: right;\n",
              "    }\n",
              "</style>\n",
              "<table border=\"1\" class=\"dataframe\">\n",
              "  <thead>\n",
              "    <tr style=\"text-align: right;\">\n",
              "      <th></th>\n",
              "      <th>binary</th>\n",
              "      <th>tf</th>\n",
              "      <th>tf_idf</th>\n",
              "      <th>bm25</th>\n",
              "    </tr>\n",
              "  </thead>\n",
              "  <tbody>\n",
              "    <tr>\n",
              "      <th>0</th>\n",
              "      <td>(36, 2)</td>\n",
              "      <td>(36, 19)</td>\n",
              "      <td>(36, 43.14)</td>\n",
              "      <td>(36, 23.32)</td>\n",
              "    </tr>\n",
              "    <tr>\n",
              "      <th>1</th>\n",
              "      <td>(94, 2)</td>\n",
              "      <td>(137, 14)</td>\n",
              "      <td>(137, 31.0)</td>\n",
              "      <td>(137, 20.03)</td>\n",
              "    </tr>\n",
              "    <tr>\n",
              "      <th>2</th>\n",
              "      <td>(137, 2)</td>\n",
              "      <td>(165, 10)</td>\n",
              "      <td>(165, 22.3)</td>\n",
              "      <td>(165, 16.37)</td>\n",
              "    </tr>\n",
              "    <tr>\n",
              "      <th>3</th>\n",
              "      <td>(139, 2)</td>\n",
              "      <td>(247, 9)</td>\n",
              "      <td>(247, 19.96)</td>\n",
              "      <td>(247, 15.14)</td>\n",
              "    </tr>\n",
              "    <tr>\n",
              "      <th>4</th>\n",
              "      <td>(165, 2)</td>\n",
              "      <td>(204, 8)</td>\n",
              "      <td>(204, 17.4)</td>\n",
              "      <td>(204, 13.04)</td>\n",
              "    </tr>\n",
              "  </tbody>\n",
              "</table>\n",
              "</div>"
            ],
            "text/plain": [
              "     binary         tf        tf_idf          bm25\n",
              "0   (36, 2)   (36, 19)   (36, 43.14)   (36, 23.32)\n",
              "1   (94, 2)  (137, 14)   (137, 31.0)  (137, 20.03)\n",
              "2  (137, 2)  (165, 10)   (165, 22.3)  (165, 16.37)\n",
              "3  (139, 2)   (247, 9)  (247, 19.96)  (247, 15.14)\n",
              "4  (165, 2)   (204, 8)   (204, 17.4)  (204, 13.04)"
            ]
          },
          "metadata": {
            "tags": []
          },
          "execution_count": 9
        }
      ]
    },
    {
      "cell_type": "code",
      "metadata": {
        "id": "TPtK4Uo5VA1q",
        "colab_type": "code",
        "outputId": "47824e52-f2cb-4bc0-cd29-5968abc95cc6",
        "colab": {
          "base_uri": "https://localhost:8080/",
          "height": 204
        }
      },
      "source": [
        "top_5_q3 = get_top_documents('forças armadas', news.text)\n",
        "pd.DataFrame(top_5_q3)"
      ],
      "execution_count": 10,
      "outputs": [
        {
          "output_type": "execute_result",
          "data": {
            "text/html": [
              "<div>\n",
              "<style scoped>\n",
              "    .dataframe tbody tr th:only-of-type {\n",
              "        vertical-align: middle;\n",
              "    }\n",
              "\n",
              "    .dataframe tbody tr th {\n",
              "        vertical-align: top;\n",
              "    }\n",
              "\n",
              "    .dataframe thead th {\n",
              "        text-align: right;\n",
              "    }\n",
              "</style>\n",
              "<table border=\"1\" class=\"dataframe\">\n",
              "  <thead>\n",
              "    <tr style=\"text-align: right;\">\n",
              "      <th></th>\n",
              "      <th>binary</th>\n",
              "      <th>tf</th>\n",
              "      <th>tf_idf</th>\n",
              "      <th>bm25</th>\n",
              "    </tr>\n",
              "  </thead>\n",
              "  <tbody>\n",
              "    <tr>\n",
              "      <th>0</th>\n",
              "      <td>(0, 2)</td>\n",
              "      <td>(149, 15)</td>\n",
              "      <td>(149, 33.34)</td>\n",
              "      <td>(149, 21.01)</td>\n",
              "    </tr>\n",
              "    <tr>\n",
              "      <th>1</th>\n",
              "      <td>(5, 2)</td>\n",
              "      <td>(24, 9)</td>\n",
              "      <td>(24, 19.87)</td>\n",
              "      <td>(24, 15.1)</td>\n",
              "    </tr>\n",
              "    <tr>\n",
              "      <th>2</th>\n",
              "      <td>(11, 2)</td>\n",
              "      <td>(165, 8)</td>\n",
              "      <td>(165, 17.96)</td>\n",
              "      <td>(165, 14.1)</td>\n",
              "    </tr>\n",
              "    <tr>\n",
              "      <th>3</th>\n",
              "      <td>(24, 2)</td>\n",
              "      <td>(207, 8)</td>\n",
              "      <td>(207, 17.96)</td>\n",
              "      <td>(207, 14.1)</td>\n",
              "    </tr>\n",
              "    <tr>\n",
              "      <th>4</th>\n",
              "      <td>(41, 2)</td>\n",
              "      <td>(0, 6)</td>\n",
              "      <td>(0, 13.47)</td>\n",
              "      <td>(0, 11.39)</td>\n",
              "    </tr>\n",
              "  </tbody>\n",
              "</table>\n",
              "</div>"
            ],
            "text/plain": [
              "    binary         tf        tf_idf          bm25\n",
              "0   (0, 2)  (149, 15)  (149, 33.34)  (149, 21.01)\n",
              "1   (5, 2)    (24, 9)   (24, 19.87)    (24, 15.1)\n",
              "2  (11, 2)   (165, 8)  (165, 17.96)   (165, 14.1)\n",
              "3  (24, 2)   (207, 8)  (207, 17.96)   (207, 14.1)\n",
              "4  (41, 2)     (0, 6)    (0, 13.47)    (0, 11.39)"
            ]
          },
          "metadata": {
            "tags": []
          },
          "execution_count": 10
        }
      ]
    },
    {
      "cell_type": "markdown",
      "metadata": {
        "id": "Xduf3weTf5gy",
        "colab_type": "text"
      },
      "source": [
        "O modelo binário, por apenas informar se o termo está presente ou não no documento, não fornece resultados satisfatórios. Observamos que, para todas as consultas, os documentos mais relevantes para os modelos restantes possuem posições parecidas, variando não mais que uma posição de um modelo para outro. Entretando, o modelo utilizando TF-IDF pode ser considerado melhor, pois alcança resultados semelhantes com as outras medidas com um cálculo mais simples que o BM25, por exemplo."
      ]
    },
    {
      "cell_type": "markdown",
      "metadata": {
        "id": "v--x7uoB17Y3",
        "colab_type": "text"
      },
      "source": [
        "# Jaccard index.\n",
        "\n",
        "O índice de Jaccard é uma medida utilizada para medir similaridade de conjuntos. Utilizaremos este valor para medir a similaridade, par a par, entre os documentos mais relevantes de acordo com os modelos de instanciação implementados."
      ]
    },
    {
      "cell_type": "code",
      "metadata": {
        "id": "A-0h9dZUjJfW",
        "colab_type": "code",
        "colab": {}
      },
      "source": [
        "def intersection_size(a, b):\n",
        "  counter = 0\n",
        "  for el in a:\n",
        "    if el in b:\n",
        "      counter += 1\n",
        "  return counter\n",
        "\n",
        "def jaccard_index(a, b):\n",
        "  n_a = len(a)\n",
        "  n_b = len(b)\n",
        "  n_ab = intersection_size(a, b)\n",
        "  exp = n_a + n_b - n_ab\n",
        "  jaccard = n_ab / exp if exp != 0 else 0\n",
        "  return jaccard"
      ],
      "execution_count": 0,
      "outputs": []
    },
    {
      "cell_type": "code",
      "metadata": {
        "id": "bMatVGsZm1or",
        "colab_type": "code",
        "colab": {}
      },
      "source": [
        "def get_doc_list(dic):\n",
        "  result = []\n",
        "  for values in dic.values():\n",
        "    result.append([doc for doc,_ in values])\n",
        "  return result\n",
        "\n",
        "\n",
        "def get_jaccard_results(dic):\n",
        "  resultados = get_doc_list(dic)\n",
        "  matriz = [['Measure', 'Binary', 'TF', 'TF-IDF', 'BM25']]\n",
        "  titles = matriz\n",
        "  for i in range(len(resultados)):\n",
        "    linha = []\n",
        "    for j in range(len(resultados)):\n",
        "      jaccard = jaccard_index(resultados[i], resultados[j])\n",
        "      linha.append(round(jaccard,2))\n",
        "    matriz.append(linha)\n",
        "  for i in range(1, len(matriz)):\n",
        "    matriz[i].insert(0, matriz[0][i])\n",
        "  return matriz"
      ],
      "execution_count": 0,
      "outputs": []
    },
    {
      "cell_type": "code",
      "metadata": {
        "id": "mH9gu7ddhXxd",
        "colab_type": "code",
        "colab": {
          "base_uri": "https://localhost:8080/",
          "height": 204
        },
        "outputId": "f216228a-6e83-4760-f162-2ec711c01672"
      },
      "source": [
        "pd.DataFrame(get_jaccard_results(top_5_q1))"
      ],
      "execution_count": 15,
      "outputs": [
        {
          "output_type": "execute_result",
          "data": {
            "text/html": [
              "<div>\n",
              "<style scoped>\n",
              "    .dataframe tbody tr th:only-of-type {\n",
              "        vertical-align: middle;\n",
              "    }\n",
              "\n",
              "    .dataframe tbody tr th {\n",
              "        vertical-align: top;\n",
              "    }\n",
              "\n",
              "    .dataframe thead th {\n",
              "        text-align: right;\n",
              "    }\n",
              "</style>\n",
              "<table border=\"1\" class=\"dataframe\">\n",
              "  <thead>\n",
              "    <tr style=\"text-align: right;\">\n",
              "      <th></th>\n",
              "      <th>0</th>\n",
              "      <th>1</th>\n",
              "      <th>2</th>\n",
              "      <th>3</th>\n",
              "      <th>4</th>\n",
              "    </tr>\n",
              "  </thead>\n",
              "  <tbody>\n",
              "    <tr>\n",
              "      <th>0</th>\n",
              "      <td>Measure</td>\n",
              "      <td>Binary</td>\n",
              "      <td>TF</td>\n",
              "      <td>TF-IDF</td>\n",
              "      <td>BM25</td>\n",
              "    </tr>\n",
              "    <tr>\n",
              "      <th>1</th>\n",
              "      <td>Binary</td>\n",
              "      <td>1</td>\n",
              "      <td>0</td>\n",
              "      <td>0</td>\n",
              "      <td>0</td>\n",
              "    </tr>\n",
              "    <tr>\n",
              "      <th>2</th>\n",
              "      <td>TF</td>\n",
              "      <td>0</td>\n",
              "      <td>1</td>\n",
              "      <td>0.67</td>\n",
              "      <td>0.67</td>\n",
              "    </tr>\n",
              "    <tr>\n",
              "      <th>3</th>\n",
              "      <td>TF-IDF</td>\n",
              "      <td>0</td>\n",
              "      <td>0.67</td>\n",
              "      <td>1</td>\n",
              "      <td>1</td>\n",
              "    </tr>\n",
              "    <tr>\n",
              "      <th>4</th>\n",
              "      <td>BM25</td>\n",
              "      <td>0</td>\n",
              "      <td>0.67</td>\n",
              "      <td>1</td>\n",
              "      <td>1</td>\n",
              "    </tr>\n",
              "  </tbody>\n",
              "</table>\n",
              "</div>"
            ],
            "text/plain": [
              "         0       1     2       3     4\n",
              "0  Measure  Binary    TF  TF-IDF  BM25\n",
              "1   Binary       1     0       0     0\n",
              "2       TF       0     1    0.67  0.67\n",
              "3   TF-IDF       0  0.67       1     1\n",
              "4     BM25       0  0.67       1     1"
            ]
          },
          "metadata": {
            "tags": []
          },
          "execution_count": 15
        }
      ]
    },
    {
      "cell_type": "code",
      "metadata": {
        "id": "0M7idARViUM4",
        "colab_type": "code",
        "colab": {
          "base_uri": "https://localhost:8080/",
          "height": 204
        },
        "outputId": "83fa1486-2f1e-4125-df09-9b53388a8336"
      },
      "source": [
        "pd.DataFrame(get_jaccard_results(top_5_q2))"
      ],
      "execution_count": 16,
      "outputs": [
        {
          "output_type": "execute_result",
          "data": {
            "text/html": [
              "<div>\n",
              "<style scoped>\n",
              "    .dataframe tbody tr th:only-of-type {\n",
              "        vertical-align: middle;\n",
              "    }\n",
              "\n",
              "    .dataframe tbody tr th {\n",
              "        vertical-align: top;\n",
              "    }\n",
              "\n",
              "    .dataframe thead th {\n",
              "        text-align: right;\n",
              "    }\n",
              "</style>\n",
              "<table border=\"1\" class=\"dataframe\">\n",
              "  <thead>\n",
              "    <tr style=\"text-align: right;\">\n",
              "      <th></th>\n",
              "      <th>0</th>\n",
              "      <th>1</th>\n",
              "      <th>2</th>\n",
              "      <th>3</th>\n",
              "      <th>4</th>\n",
              "    </tr>\n",
              "  </thead>\n",
              "  <tbody>\n",
              "    <tr>\n",
              "      <th>0</th>\n",
              "      <td>Measure</td>\n",
              "      <td>Binary</td>\n",
              "      <td>TF</td>\n",
              "      <td>TF-IDF</td>\n",
              "      <td>BM25</td>\n",
              "    </tr>\n",
              "    <tr>\n",
              "      <th>1</th>\n",
              "      <td>Binary</td>\n",
              "      <td>1</td>\n",
              "      <td>0.43</td>\n",
              "      <td>0.43</td>\n",
              "      <td>0.43</td>\n",
              "    </tr>\n",
              "    <tr>\n",
              "      <th>2</th>\n",
              "      <td>TF</td>\n",
              "      <td>0.43</td>\n",
              "      <td>1</td>\n",
              "      <td>1</td>\n",
              "      <td>1</td>\n",
              "    </tr>\n",
              "    <tr>\n",
              "      <th>3</th>\n",
              "      <td>TF-IDF</td>\n",
              "      <td>0.43</td>\n",
              "      <td>1</td>\n",
              "      <td>1</td>\n",
              "      <td>1</td>\n",
              "    </tr>\n",
              "    <tr>\n",
              "      <th>4</th>\n",
              "      <td>BM25</td>\n",
              "      <td>0.43</td>\n",
              "      <td>1</td>\n",
              "      <td>1</td>\n",
              "      <td>1</td>\n",
              "    </tr>\n",
              "  </tbody>\n",
              "</table>\n",
              "</div>"
            ],
            "text/plain": [
              "         0       1     2       3     4\n",
              "0  Measure  Binary    TF  TF-IDF  BM25\n",
              "1   Binary       1  0.43    0.43  0.43\n",
              "2       TF    0.43     1       1     1\n",
              "3   TF-IDF    0.43     1       1     1\n",
              "4     BM25    0.43     1       1     1"
            ]
          },
          "metadata": {
            "tags": []
          },
          "execution_count": 16
        }
      ]
    },
    {
      "cell_type": "code",
      "metadata": {
        "id": "LitcZ3k2iW--",
        "colab_type": "code",
        "colab": {
          "base_uri": "https://localhost:8080/",
          "height": 204
        },
        "outputId": "92af3058-0ed4-4d79-b7dd-77989fb34f52"
      },
      "source": [
        "pd.DataFrame(get_jaccard_results(top_5_q3))"
      ],
      "execution_count": 17,
      "outputs": [
        {
          "output_type": "execute_result",
          "data": {
            "text/html": [
              "<div>\n",
              "<style scoped>\n",
              "    .dataframe tbody tr th:only-of-type {\n",
              "        vertical-align: middle;\n",
              "    }\n",
              "\n",
              "    .dataframe tbody tr th {\n",
              "        vertical-align: top;\n",
              "    }\n",
              "\n",
              "    .dataframe thead th {\n",
              "        text-align: right;\n",
              "    }\n",
              "</style>\n",
              "<table border=\"1\" class=\"dataframe\">\n",
              "  <thead>\n",
              "    <tr style=\"text-align: right;\">\n",
              "      <th></th>\n",
              "      <th>0</th>\n",
              "      <th>1</th>\n",
              "      <th>2</th>\n",
              "      <th>3</th>\n",
              "      <th>4</th>\n",
              "    </tr>\n",
              "  </thead>\n",
              "  <tbody>\n",
              "    <tr>\n",
              "      <th>0</th>\n",
              "      <td>Measure</td>\n",
              "      <td>Binary</td>\n",
              "      <td>TF</td>\n",
              "      <td>TF-IDF</td>\n",
              "      <td>BM25</td>\n",
              "    </tr>\n",
              "    <tr>\n",
              "      <th>1</th>\n",
              "      <td>Binary</td>\n",
              "      <td>1</td>\n",
              "      <td>0.25</td>\n",
              "      <td>0.25</td>\n",
              "      <td>0.25</td>\n",
              "    </tr>\n",
              "    <tr>\n",
              "      <th>2</th>\n",
              "      <td>TF</td>\n",
              "      <td>0.25</td>\n",
              "      <td>1</td>\n",
              "      <td>1</td>\n",
              "      <td>1</td>\n",
              "    </tr>\n",
              "    <tr>\n",
              "      <th>3</th>\n",
              "      <td>TF-IDF</td>\n",
              "      <td>0.25</td>\n",
              "      <td>1</td>\n",
              "      <td>1</td>\n",
              "      <td>1</td>\n",
              "    </tr>\n",
              "    <tr>\n",
              "      <th>4</th>\n",
              "      <td>BM25</td>\n",
              "      <td>0.25</td>\n",
              "      <td>1</td>\n",
              "      <td>1</td>\n",
              "      <td>1</td>\n",
              "    </tr>\n",
              "  </tbody>\n",
              "</table>\n",
              "</div>"
            ],
            "text/plain": [
              "         0       1     2       3     4\n",
              "0  Measure  Binary    TF  TF-IDF  BM25\n",
              "1   Binary       1  0.25    0.25  0.25\n",
              "2       TF    0.25     1       1     1\n",
              "3   TF-IDF    0.25     1       1     1\n",
              "4     BM25    0.25     1       1     1"
            ]
          },
          "metadata": {
            "tags": []
          },
          "execution_count": 17
        }
      ]
    },
    {
      "cell_type": "markdown",
      "metadata": {
        "id": "DOErt23n26T6",
        "colab_type": "text"
      },
      "source": [
        "Os resultados do modelo binário, como já falado anteriormente, distoa bastante dos resultados das outras instanciações, o que pode ser verificado pelo seu índice de Jaccard. Já as instanciações restantes, por possuírem resultados semelhantes, possuem um valor alto de similaridade entre si, e, no caso do TF-IDF e BM25, valor máximo, já que retornaram os mesmos resultados."
      ]
    }
  ]
}